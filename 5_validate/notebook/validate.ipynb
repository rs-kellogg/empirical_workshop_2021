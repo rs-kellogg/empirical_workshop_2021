{
 "cells": [
  {
   "cell_type": "markdown",
   "metadata": {
    "slideshow": {
     "slide_type": "slide"
    }
   },
   "source": [
    "# <span style=\"color:purple\">Validating your Data - Lab Session</span>\n",
    "\n",
    "## Data Skills for Empirical Research\n",
    "\n",
    "### Winter, 2021"
   ]
  },
  {
   "cell_type": "markdown",
   "metadata": {
    "slideshow": {
     "slide_type": "slide"
    }
   },
   "source": [
    "## <span style=\"color:purple\">What do you do with a brand new dataset? How do check it? </span>\n",
    "\n",
    "<center><img src=\"../figures/excited.jpg\" width=\"70%\" style='border:5px solid #000000'/></center>\n",
    "https://www.sourcecon.com/why-im-excited-about-new-product-enhancements-for-linkedin-recruiter-by-randybailey/"
   ]
  },
  {
   "cell_type": "markdown",
   "metadata": {
    "slideshow": {
     "slide_type": "slide"
    }
   },
   "source": [
    "<center><img src=\"../figures/validation.png\" width=\"40%\" style='border:5px solid #000000'/></center>\n",
    "\n",
    "<br>\n",
    "Data validation is a process for checking the accuracy and quality of your data.  Today we'll focus on checking whether data is:"
   ]
  },
  {
   "cell_type": "markdown",
   "metadata": {
    "slideshow": {
     "slide_type": "fragment"
    }
   },
   "source": [
    " * Complete (external and internal validation)"
   ]
  },
  {
   "cell_type": "markdown",
   "metadata": {
    "slideshow": {
     "slide_type": "fragment"
    }
   },
   "source": [
    "* Appropriately Structured (Ready to Merge, Validate, Analyze)"
   ]
  },
  {
   "cell_type": "markdown",
   "metadata": {
    "slideshow": {
     "slide_type": "fragment"
    }
   },
   "source": [
    "* Unique (Free of Duplicates/Irrelevant Data)"
   ]
  },
  {
   "cell_type": "markdown",
   "metadata": {
    "slideshow": {
     "slide_type": "fragment"
    }
   },
   "source": [
    "* Logical"
   ]
  },
  {
   "cell_type": "markdown",
   "metadata": {
    "slideshow": {
     "slide_type": "slide"
    }
   },
   "source": [
    "# <span style=\"color:purple\">Question: Do Press Releases Affect Stock Movement? </span>\n",
    "<center><img src=\"../figures/task1.png\" width=\"80%\"'/></center>"
   ]
  },
  {
   "cell_type": "markdown",
   "metadata": {
    "slideshow": {
     "slide_type": "slide"
    }
   },
   "source": [
    "# <span style=\"color:purple\">Dataset</span>\n",
    "<center><img src=\"../figures/yahoo.png\" width=\"80%\"'/></center>"
   ]
  },
  {
   "cell_type": "markdown",
   "metadata": {
    "slideshow": {
     "slide_type": "slide"
    }
   },
   "source": [
    "# <span style=\"color:purple\">Is the Dataset Complete?</span>\n",
    "\n",
    "How do we know we are not missing, exaggerating the number of press releases? "
   ]
  },
  {
   "cell_type": "markdown",
   "metadata": {
    "slideshow": {
     "slide_type": "fragment"
    }
   },
   "source": [
    "\n",
    "<center><img src=\"../figures/apple.png\" width=\"80%\"/></center>"
   ]
  },
  {
   "cell_type": "markdown",
   "metadata": {
    "slideshow": {
     "slide_type": "slide"
    }
   },
   "source": [
    "# <span style=\"color:purple\">Lab Setup: Read in the Data and Test rpy2 </span>"
   ]
  },
  {
   "cell_type": "code",
   "execution_count": 1,
   "metadata": {
    "slideshow": {
     "slide_type": "fragment"
    }
   },
   "outputs": [
    {
     "name": "stdout",
     "output_type": "stream",
     "text": [
      "(375, 7)\n",
      "['ID', 'Ticker', 'Title', 'Site', 'Source', 'Date', 'File Path']\n"
     ]
    }
   ],
   "source": [
    "import pandas as pd\n",
    "pr_main = pd.read_csv(\"../data/yahoo_main.csv\")\n",
    "print(pr_main.shape)\n",
    "print(pr_main.columns.tolist())"
   ]
  },
  {
   "cell_type": "markdown",
   "metadata": {
    "slideshow": {
     "slide_type": "fragment"
    }
   },
   "source": [
    "To use R code, we will install the rpy2 library (https://rpy2.github.io/doc/latest/html/introduction.html)."
   ]
  },
  {
   "cell_type": "code",
   "execution_count": null,
   "metadata": {
    "slideshow": {
     "slide_type": "fragment"
    }
   },
   "outputs": [],
   "source": [
    "!pip install --user rpy2"
   ]
  },
  {
   "cell_type": "code",
   "execution_count": 2,
   "metadata": {},
   "outputs": [],
   "source": [
    "import rpy2"
   ]
  },
  {
   "cell_type": "code",
   "execution_count": 3,
   "metadata": {
    "slideshow": {
     "slide_type": "fragment"
    }
   },
   "outputs": [],
   "source": [
    "%load_ext rpy2.ipython"
   ]
  },
  {
   "cell_type": "markdown",
   "metadata": {
    "slideshow": {
     "slide_type": "slide"
    }
   },
   "source": [
    "To run R code, start the slide with \"%%R\". Note that a comment cannot come before this."
   ]
  },
  {
   "cell_type": "code",
   "execution_count": 4,
   "metadata": {
    "slideshow": {
     "slide_type": "fragment"
    }
   },
   "outputs": [
    {
     "name": "stdout",
     "output_type": "stream",
     "text": [
      "[1] 375   5\n",
      "[1] \"ID\"     \"Ticker\" \"Title\"  \"Source\" \"Date\"  \n"
     ]
    }
   ],
   "source": [
    "%%R -i pr_main \n",
    "pr_main <- pr_main[,c(1:3,5:6)]\n",
    "print(dim(pr_main))\n",
    "print(colnames(pr_main))"
   ]
  },
  {
   "cell_type": "code",
   "execution_count": 5,
   "metadata": {
    "slideshow": {
     "slide_type": "fragment"
    }
   },
   "outputs": [
    {
     "name": "stdout",
     "output_type": "stream",
     "text": [
      "(371, 3)\n",
      "['ID', 'Title', 'Date']\n"
     ]
    }
   ],
   "source": [
    "pr_dates = pd.read_csv(\"../data/yahoo_dates.csv\")\n",
    "print(pr_dates.shape)\n",
    "print(pr_dates.columns.tolist())"
   ]
  },
  {
   "cell_type": "code",
   "execution_count": 133,
   "metadata": {
    "slideshow": {
     "slide_type": "fragment"
    }
   },
   "outputs": [
    {
     "name": "stdout",
     "output_type": "stream",
     "text": [
      "(253, 9)\n",
      "['date', 'AAPL', 'AMZN', 'ARTW', 'EVGN', 'FB', 'GOOG', 'GOOGL', 'MSFT']\n"
     ]
    }
   ],
   "source": [
    "stocks = pd.read_csv(\"../data/stocks.csv\")\n",
    "print(stocks.shape)\n",
    "print(stocks.columns.tolist())"
   ]
  },
  {
   "cell_type": "markdown",
   "metadata": {
    "slideshow": {
     "slide_type": "slide"
    }
   },
   "source": [
    "# <span style=\"color:purple\">Preview Data</span>"
   ]
  },
  {
   "cell_type": "code",
   "execution_count": 7,
   "metadata": {
    "slideshow": {
     "slide_type": "fragment"
    }
   },
   "outputs": [
    {
     "data": {
      "text/plain": [
       "<bound method NDFrame.head of          ID Ticker                                              Title  \\\n",
       "0     AAPL1   AAPL                Apple Reports First Quarter Results   \n",
       "1     AAPL2   AAPL           Dan Riccio Begins a New Chapter at Apple   \n",
       "2     AAPL3   AAPL  Time to Walk: An Inspiring Audio Walking Exper...   \n",
       "3     AAPL4   AAPL  Apple Launches Major New Racial Equity and Jus...   \n",
       "4     AAPL5   AAPL     Monica Lozano Joins Apple’s Board of Directors   \n",
       "..      ...    ...                                                ...   \n",
       "370  MSFT79   MSFT  Microsoft and Accenture Collaborate to Help En...   \n",
       "371  MSFT80   MSFT  Microsoft and the NFL expand partnership to ac...   \n",
       "372  MSFT81   MSFT               Microsoft update on Q3 FY20 guidance   \n",
       "373  MSFT82   MSFT  Open Manufacturing Platform expands: Anheuser-...   \n",
       "374  MSFT83   MSFT     /C O R R E C T I O N -- Microsoft Corporation/   \n",
       "\n",
       "            Source  \n",
       "0    Business Wire  \n",
       "1    Business Wire  \n",
       "2    Business Wire  \n",
       "3    Business Wire  \n",
       "4    Business Wire  \n",
       "..             ...  \n",
       "370  Business Wire  \n",
       "371    PR Newswire  \n",
       "372    PR Newswire  \n",
       "373    PR Newswire  \n",
       "374    PR Newswire  \n",
       "\n",
       "[375 rows x 4 columns]>"
      ]
     },
     "execution_count": 7,
     "metadata": {},
     "output_type": "execute_result"
    }
   ],
   "source": [
    "pr_main = pr_main[[\"ID\", \"Ticker\", \"Title\", \"Source\"]]\n",
    "pr_main.head"
   ]
  },
  {
   "cell_type": "code",
   "execution_count": 8,
   "metadata": {
    "slideshow": {
     "slide_type": "slide"
    }
   },
   "outputs": [
    {
     "data": {
      "text/plain": [
       "<bound method NDFrame.head of          ID                                              Title  \\\n",
       "0     AAPL1                Apple Reports First Quarter Results   \n",
       "1     AAPL2           Dan Riccio Begins a New Chapter at Apple   \n",
       "2     AAPL3  Time to Walk: An Inspiring Audio Walking Exper...   \n",
       "3     AAPL4  Apple Launches Major New Racial Equity and Jus...   \n",
       "4     AAPL5     Monica Lozano Joins Apple’s Board of Directors   \n",
       "..      ...                                                ...   \n",
       "366  MSFT78  Data and the cloud: By unlocking our DNA we've...   \n",
       "367  MSFT79  Microsoft and Accenture Collaborate to Help En...   \n",
       "368  MSFT80  Microsoft and the NFL expand partnership to ac...   \n",
       "369  MSFT81               Microsoft update on Q3 FY20 guidance   \n",
       "370  MSFT82  Open Manufacturing Platform expands: Anheuser-...   \n",
       "\n",
       "                         Date  \n",
       "0    2021-01-27T21:30:00.000Z  \n",
       "1    2021-01-25T22:00:00.000Z  \n",
       "2    2021-01-25T14:00:00.000Z  \n",
       "3    2021-01-13T12:00:00.000Z  \n",
       "4    2021-01-05T14:00:00.000Z  \n",
       "..                        ...  \n",
       "366  2020-03-12T04:21:00.000Z  \n",
       "367  2020-03-04T05:29:00.000Z  \n",
       "368  2020-03-03T17:00:00.000Z  \n",
       "369  2020-02-26T21:09:00.000Z  \n",
       "370  2020-02-19T17:19:00.000Z  \n",
       "\n",
       "[371 rows x 3 columns]>"
      ]
     },
     "execution_count": 8,
     "metadata": {},
     "output_type": "execute_result"
    }
   ],
   "source": [
    "pr_dates.head"
   ]
  },
  {
   "cell_type": "code",
   "execution_count": 9,
   "metadata": {
    "slideshow": {
     "slide_type": "slide"
    }
   },
   "outputs": [
    {
     "data": {
      "text/plain": [
       "<bound method NDFrame.head of          date       AAPL        AMZN    ARTW  EVGN         FB        GOOG  \\\n",
       "0      1/2/20  300.35001  1898.01001  1.8010  1.67  209.78000  1367.37000   \n",
       "1      1/3/20  297.42999  1874.96997  1.7600  1.60  208.67000  1360.66003   \n",
       "2      1/6/20  299.79999  1902.88000  1.7901  1.59  212.60001  1394.20996   \n",
       "3      1/7/20  298.39001  1906.85999  1.7500  1.60  213.06000  1393.33997   \n",
       "4      1/8/20  303.19000  1891.96997  1.7600  1.68  215.22000  1404.31995   \n",
       "..        ...        ...         ...     ...   ...        ...         ...   \n",
       "248  12/24/20  131.97000  3172.68994  2.4700  4.41  267.39999  1738.84998   \n",
       "249  12/28/20  136.69000  3283.95996  2.5100  5.63  277.00000  1776.08997   \n",
       "250  12/29/20  134.87000  3322.00000  2.7500  4.92  276.78000  1758.71997   \n",
       "251  12/30/20  133.72000  3285.85010  2.7500  4.90  271.87000  1739.52002   \n",
       "252  12/31/20  132.69000  3256.92993  2.8800  4.70  273.16000  1751.88000   \n",
       "\n",
       "          GOOGL       MSFT  \n",
       "0    1368.68005  160.62000  \n",
       "1    1361.52002  158.62000  \n",
       "2    1397.81006  159.03000  \n",
       "3    1395.10999  157.58000  \n",
       "4    1405.04004  160.09000  \n",
       "..          ...        ...  \n",
       "248  1734.16003  222.75000  \n",
       "249  1773.95996  224.96001  \n",
       "250  1757.76001  224.14999  \n",
       "251  1736.25000  221.67999  \n",
       "252  1752.64001  222.42000  \n",
       "\n",
       "[253 rows x 9 columns]>"
      ]
     },
     "execution_count": 9,
     "metadata": {},
     "output_type": "execute_result"
    }
   ],
   "source": [
    "stocks.head"
   ]
  },
  {
   "cell_type": "markdown",
   "metadata": {
    "slideshow": {
     "slide_type": "slide"
    }
   },
   "source": [
    "# <span style=\"color:purple\">Q1: Wide to Long - How do we reshape the stock data? </span>"
   ]
  },
  {
   "cell_type": "code",
   "execution_count": null,
   "metadata": {
    "slideshow": {
     "slide_type": "fragment"
    }
   },
   "outputs": [],
   "source": []
  },
  {
   "cell_type": "code",
   "execution_count": 10,
   "metadata": {
    "slideshow": {
     "slide_type": "fragment"
    }
   },
   "outputs": [
    {
     "data": {
      "text/html": [
       "<div>\n",
       "<style scoped>\n",
       "    .dataframe tbody tr th:only-of-type {\n",
       "        vertical-align: middle;\n",
       "    }\n",
       "\n",
       "    .dataframe tbody tr th {\n",
       "        vertical-align: top;\n",
       "    }\n",
       "\n",
       "    .dataframe thead th {\n",
       "        text-align: right;\n",
       "    }\n",
       "</style>\n",
       "<table border=\"1\" class=\"dataframe\">\n",
       "  <thead>\n",
       "    <tr style=\"text-align: right;\">\n",
       "      <th></th>\n",
       "      <th>date</th>\n",
       "      <th>variable</th>\n",
       "      <th>value</th>\n",
       "    </tr>\n",
       "  </thead>\n",
       "  <tbody>\n",
       "    <tr>\n",
       "      <th>1</th>\n",
       "      <td>1/3/20</td>\n",
       "      <td>AAPL</td>\n",
       "      <td>297.42999</td>\n",
       "    </tr>\n",
       "    <tr>\n",
       "      <th>2</th>\n",
       "      <td>1/6/20</td>\n",
       "      <td>AAPL</td>\n",
       "      <td>299.79999</td>\n",
       "    </tr>\n",
       "  </tbody>\n",
       "</table>\n",
       "</div>"
      ],
      "text/plain": [
       "     date variable      value\n",
       "1  1/3/20     AAPL  297.42999\n",
       "2  1/6/20     AAPL  299.79999"
      ]
     },
     "execution_count": 10,
     "metadata": {},
     "output_type": "execute_result"
    }
   ],
   "source": [
    "stocks2 = pd.melt(stocks, id_vars=['date'], value_vars=['AAPL', \"AMZN\", \"ARTW\", \"EVGN\", \"FB\", \"GOOG\", \"GOOGL\", 'MSFT'])\n",
    "stocks2.iloc[1:3,]"
   ]
  },
  {
   "cell_type": "code",
   "execution_count": 134,
   "metadata": {
    "slideshow": {
     "slide_type": "fragment"
    }
   },
   "outputs": [
    {
     "name": "stdout",
     "output_type": "stream",
     "text": [
      "    date ticker  price\n",
      "1 1/2/20   AAPL 300.35\n",
      "2 1/3/20   AAPL 297.43\n",
      "3 1/6/20   AAPL 299.80\n",
      "4 1/7/20   AAPL 298.39\n",
      "5 1/8/20   AAPL 303.19\n",
      "6 1/9/20   AAPL 309.63\n"
     ]
    }
   ],
   "source": [
    "%%R -i stocks \n",
    "install.packages(\"tidyr\", repos='http://cran.us.r-project.org', quiet=TRUE)\n",
    "library(tidyr)\n",
    "stocks <- gather(stocks, ticker, price, AAPL:MSFT, factor_key=TRUE)\n",
    "head(stocks)"
   ]
  },
  {
   "cell_type": "markdown",
   "metadata": {
    "slideshow": {
     "slide_type": "slide"
    }
   },
   "source": [
    "# <span style=\"color:purple\">Summary Statistics - Let's Flag Issues</span>"
   ]
  },
  {
   "cell_type": "code",
   "execution_count": 12,
   "metadata": {
    "slideshow": {
     "slide_type": "fragment"
    }
   },
   "outputs": [
    {
     "data": {
      "text/html": [
       "<div>\n",
       "<style scoped>\n",
       "    .dataframe tbody tr th:only-of-type {\n",
       "        vertical-align: middle;\n",
       "    }\n",
       "\n",
       "    .dataframe tbody tr th {\n",
       "        vertical-align: top;\n",
       "    }\n",
       "\n",
       "    .dataframe thead th {\n",
       "        text-align: right;\n",
       "    }\n",
       "</style>\n",
       "<table border=\"1\" class=\"dataframe\">\n",
       "  <thead>\n",
       "    <tr style=\"text-align: right;\">\n",
       "      <th></th>\n",
       "      <th>ID</th>\n",
       "      <th>Ticker</th>\n",
       "      <th>Title</th>\n",
       "      <th>Source</th>\n",
       "    </tr>\n",
       "  </thead>\n",
       "  <tbody>\n",
       "    <tr>\n",
       "      <th>count</th>\n",
       "      <td>375</td>\n",
       "      <td>375</td>\n",
       "      <td>375</td>\n",
       "      <td>374</td>\n",
       "    </tr>\n",
       "    <tr>\n",
       "      <th>unique</th>\n",
       "      <td>375</td>\n",
       "      <td>7</td>\n",
       "      <td>371</td>\n",
       "      <td>6</td>\n",
       "    </tr>\n",
       "    <tr>\n",
       "      <th>top</th>\n",
       "      <td>EVGN3</td>\n",
       "      <td>AMZN</td>\n",
       "      <td>S&amp;P 500 buybacks up 3.2% in Q4 2019; Full Year...</td>\n",
       "      <td>Business Wire</td>\n",
       "    </tr>\n",
       "    <tr>\n",
       "      <th>freq</th>\n",
       "      <td>1</td>\n",
       "      <td>170</td>\n",
       "      <td>3</td>\n",
       "      <td>225</td>\n",
       "    </tr>\n",
       "  </tbody>\n",
       "</table>\n",
       "</div>"
      ],
      "text/plain": [
       "           ID Ticker                                              Title  \\\n",
       "count     375    375                                                375   \n",
       "unique    375      7                                                371   \n",
       "top     EVGN3   AMZN  S&P 500 buybacks up 3.2% in Q4 2019; Full Year...   \n",
       "freq        1    170                                                  3   \n",
       "\n",
       "               Source  \n",
       "count             374  \n",
       "unique              6  \n",
       "top     Business Wire  \n",
       "freq              225  "
      ]
     },
     "execution_count": 12,
     "metadata": {},
     "output_type": "execute_result"
    }
   ],
   "source": [
    "pr_main.describe()"
   ]
  },
  {
   "cell_type": "code",
   "execution_count": 13,
   "metadata": {
    "slideshow": {
     "slide_type": "fragment"
    }
   },
   "outputs": [
    {
     "name": "stdout",
     "output_type": "stream",
     "text": [
      "      ID               Ticker             Title              Source         \n",
      " Length:375         Length:375         Length:375         Length:375        \n",
      " Class :character   Class :character   Class :character   Class :character  \n",
      " Mode  :character   Mode  :character   Mode  :character   Mode  :character  \n",
      "     Date          \n",
      " Length:375        \n",
      " Class :character  \n",
      " Mode  :character  \n"
     ]
    }
   ],
   "source": [
    "%%R \n",
    "summary(pr_main)"
   ]
  },
  {
   "cell_type": "markdown",
   "metadata": {
    "slideshow": {
     "slide_type": "slide"
    }
   },
   "source": [
    "# <span style=\"color:purple\">Additional Summary Stats Packages in R</span>"
   ]
  },
  {
   "cell_type": "code",
   "execution_count": 14,
   "metadata": {
    "slideshow": {
     "slide_type": "fragment"
    }
   },
   "outputs": [
    {
     "name": "stderr",
     "output_type": "stream",
     "text": [
      "R[write to console]: \n",
      "Attaching package: ‘pastecs’\n",
      "\n",
      "\n",
      "R[write to console]: The following object is masked from ‘package:tidyr’:\n",
      "\n",
      "    extract\n",
      "\n",
      "\n"
     ]
    },
    {
     "name": "stdout",
     "output_type": "stream",
     "text": [
      "         date ticker         price\n",
      "nbr.val    NA     NA  2.024000e+03\n",
      "nbr.null   NA     NA  0.000000e+00\n",
      "nbr.na     NA     NA  0.000000e+00\n",
      "min        NA     NA -1.675000e+00\n",
      "max        NA     NA  3.531450e+03\n",
      "range      NA     NA  3.533125e+03\n",
      "sum        NA     NA  1.602224e+06\n",
      "median     NA     NA  2.539800e+02\n",
      "mean       NA     NA  7.916124e+02\n",
      "SE.mean    NA     NA  2.092843e+01\n",
      "CI.mean    NA     NA  4.104352e+01\n",
      "var        NA     NA  8.865102e+05\n",
      "std.dev    NA     NA  9.415467e+02\n",
      "coef.var   NA     NA  1.189404e+00\n"
     ]
    }
   ],
   "source": [
    "%%R\n",
    "#install.packages(\"pastecs\", repos='http://cran.us.r-project.org', quiet=TRUE)\n",
    "library(pastecs)\n",
    "stat.desc(stocks)"
   ]
  },
  {
   "cell_type": "code",
   "execution_count": 15,
   "metadata": {
    "slideshow": {
     "slide_type": "slide"
    }
   },
   "outputs": [
    {
     "name": "stdout",
     "output_type": "stream",
     "text": [
      "── Data Summary ────────────────────────\n",
      "                           Values \n",
      "Name                       pr_main\n",
      "Number of rows             375    \n",
      "Number of columns          5      \n",
      "_______________________           \n",
      "Column type frequency:            \n",
      "  character                5      \n",
      "________________________          \n",
      "Group variables            None   \n",
      "\n",
      "── Variable type: character ────────────────────────────────────────────────────\n",
      "  skim_variable n_missing complete_rate   min   max empty n_unique whitespace\n",
      "1 ID                    0         1         3     7     0      375          0\n",
      "2 Ticker                0         1         2     4     0        7          0\n",
      "3 Title                 0         1        18   238     0      371          0\n",
      "4 Source                1         0.997     9    58     0        6          0\n",
      "5 Date                  2         0.995     9    13     0       29          0\n"
     ]
    }
   ],
   "source": [
    "%%R\n",
    "#install.packages(\"skimr\", repos='http://cran.us.r-project.org', quiet=TRUE)\n",
    "library(skimr)\n",
    "print(skim(pr_main))"
   ]
  },
  {
   "cell_type": "code",
   "execution_count": 16,
   "metadata": {
    "slideshow": {
     "slide_type": "slide"
    }
   },
   "outputs": [
    {
     "name": "stdout",
     "output_type": "stream",
     "text": [
      "── Data Summary ────────────────────────\n",
      "                           Values  \n",
      "Name                       pr_dates\n",
      "Number of rows             371     \n",
      "Number of columns          3       \n",
      "_______________________            \n",
      "Column type frequency:             \n",
      "  character                3       \n",
      "________________________           \n",
      "Group variables            None    \n",
      "\n",
      "── Variable type: character ────────────────────────────────────────────────────\n",
      "  skim_variable n_missing complete_rate   min   max empty n_unique whitespace\n",
      "1 ID                    0             1     3     7     0      371          0\n",
      "2 Title                 0             1    18   238     0      367          0\n",
      "3 Date                  0             1    24    24     0      334          0\n"
     ]
    }
   ],
   "source": [
    "%%R -i pr_dates\n",
    "print(skim(pr_dates))"
   ]
  },
  {
   "cell_type": "code",
   "execution_count": 17,
   "metadata": {
    "slideshow": {
     "slide_type": "slide"
    }
   },
   "outputs": [
    {
     "name": "stdout",
     "output_type": "stream",
     "text": [
      "── Data Summary ────────────────────────\n",
      "                           Values\n",
      "Name                       stocks\n",
      "Number of rows             2024  \n",
      "Number of columns          3     \n",
      "_______________________          \n",
      "Column type frequency:           \n",
      "  character                1     \n",
      "  factor                   1     \n",
      "  numeric                  1     \n",
      "________________________         \n",
      "Group variables            None  \n",
      "\n",
      "── Variable type: character ────────────────────────────────────────────────────\n",
      "  skim_variable n_missing complete_rate   min   max empty n_unique whitespace\n",
      "1 date                  0             1     6     8     0      253          0\n",
      "\n",
      "── Variable type: factor ───────────────────────────────────────────────────────\n",
      "  skim_variable n_missing complete_rate ordered n_unique\n",
      "1 ticker                0             1 FALSE          8\n",
      "  top_counts                            \n",
      "1 AAP: 253, AMZ: 253, ART: 253, EVG: 253\n",
      "\n",
      "── Variable type: numeric ──────────────────────────────────────────────────────\n",
      "  skim_variable n_missing complete_rate  mean    sd    p0   p25   p50   p75\n",
      "1 price                 0             1  792.  942. -1.68  81.5  254. 1479.\n",
      "   p100 hist \n",
      "1 3531. ▇▁▃▁▁\n"
     ]
    }
   ],
   "source": [
    "%%R\n",
    "print(skim(stocks))"
   ]
  },
  {
   "cell_type": "code",
   "execution_count": null,
   "metadata": {
    "slideshow": {
     "slide_type": "skip"
    }
   },
   "outputs": [],
   "source": [
    "%%R\n",
    "#library(Hmisc)\n",
    "#describe(data)\n",
    "\n",
    "#library(qwraps2)\n",
    "#options(qwraps2_markup = \"markdown\")"
   ]
  },
  {
   "cell_type": "markdown",
   "metadata": {
    "slideshow": {
     "slide_type": "slide"
    }
   },
   "source": [
    "# <span style=\"color:purple\">Free of Unnecessary Values</span>\n",
    "<center><img src=\"../figures/dups.png\" width=\"80%\"'/></center>\n",
    "    https://elitedatascience.com/data-cleaning"
   ]
  },
  {
   "cell_type": "markdown",
   "metadata": {
    "slideshow": {
     "slide_type": "slide"
    }
   },
   "source": [
    "# <span style=\"color:purple\">Q2: How do we check for uneeded values, duplicates? </span>"
   ]
  },
  {
   "cell_type": "code",
   "execution_count": null,
   "metadata": {
    "slideshow": {
     "slide_type": "fragment"
    }
   },
   "outputs": [],
   "source": []
  },
  {
   "cell_type": "code",
   "execution_count": 18,
   "metadata": {
    "slideshow": {
     "slide_type": "fragment"
    }
   },
   "outputs": [
    {
     "name": "stdout",
     "output_type": "stream",
     "text": [
      "False\n",
      "False\n",
      "False\n",
      "False\n",
      "False\n"
     ]
    }
   ],
   "source": [
    "print(pr_main.duplicated().any())\n",
    "print(pr_main[\"ID\"].duplicated().any())\n",
    "\n",
    "print(pr_dates.duplicated().any())\n",
    "print(pr_dates[\"ID\"].duplicated().any())\n",
    "\n",
    "print(stocks.duplicated().any())"
   ]
  },
  {
   "cell_type": "code",
   "execution_count": 19,
   "metadata": {
    "slideshow": {
     "slide_type": "slide"
    }
   },
   "outputs": [
    {
     "name": "stdout",
     "output_type": "stream",
     "text": [
      "[1] 375   5\n",
      "[1] 375\n",
      "[1] 371   3\n"
     ]
    },
    {
     "name": "stderr",
     "output_type": "stream",
     "text": [
      "R[write to console]: \n",
      "Attaching package: ‘dplyr’\n",
      "\n",
      "\n",
      "R[write to console]: The following objects are masked from ‘package:pastecs’:\n",
      "\n",
      "    first, last\n",
      "\n",
      "\n",
      "R[write to console]: The following objects are masked from ‘package:stats’:\n",
      "\n",
      "    filter, lag\n",
      "\n",
      "\n",
      "R[write to console]: The following objects are masked from ‘package:base’:\n",
      "\n",
      "    intersect, setdiff, setequal, union\n",
      "\n",
      "\n"
     ]
    },
    {
     "name": "stdout",
     "output_type": "stream",
     "text": [
      "[1] 2024    3\n",
      "data frame with 0 columns and 375 rows\n"
     ]
    }
   ],
   "source": [
    "%%R\n",
    "# Only Keep Unique Data\n",
    "print(dim(unique(pr_main)))\n",
    "print(length(unique(pr_main$ID)))\n",
    "print(dim(unique(pr_dates)))\n",
    "install.packages(\"dplyr\", repos='http://cran.us.r-project.org', quiet=TRUE)\n",
    "library(dplyr)\n",
    "print(dim(distinct(stocks)))\n",
    "\n",
    "# Identify Duplicates\n",
    "pr_main2 <- pr_main[,-1]\n",
    "pr_main2[duplicated(pr_main2) | duplicated(pr_main2, fromLast=TRUE)]"
   ]
  },
  {
   "cell_type": "markdown",
   "metadata": {
    "slideshow": {
     "slide_type": "slide"
    }
   },
   "source": [
    "# <span style=\"color:purple\">Missing Data</span>\n",
    "There are many ways to treat missing data. Any suggestions? "
   ]
  },
  {
   "cell_type": "markdown",
   "metadata": {
    "slideshow": {
     "slide_type": "fragment"
    }
   },
   "source": [
    "* Dropping Them? - What about biasing your data?"
   ]
  },
  {
   "cell_type": "markdown",
   "metadata": {
    "slideshow": {
     "slide_type": "fragment"
    }
   },
   "source": [
    "* Imputing Them? - Possibly, challenging to implement properly"
   ]
  },
  {
   "cell_type": "markdown",
   "metadata": {
    "slideshow": {
     "slide_type": "fragment"
    }
   },
   "source": [
    "* Account For Them! - Definitely!"
   ]
  },
  {
   "cell_type": "markdown",
   "metadata": {
    "slideshow": {
     "slide_type": "fragment"
    }
   },
   "source": [
    "Note that missing values are not only NAs or blanks in a dataset.  Check whether character strings are cutoff. Determine whether certain types of observations are missing altogether."
   ]
  },
  {
   "cell_type": "markdown",
   "metadata": {
    "slideshow": {
     "slide_type": "slide"
    }
   },
   "source": [
    "# <span style=\"color:purple\">Q3a: Does the dataset have any missing values? NAs or Blanks?</span>\n",
    "\n",
    "Could we check the \"Source\" in pr_main and the length of \"Titles\" in pr_main and pr_dates?"
   ]
  },
  {
   "cell_type": "code",
   "execution_count": null,
   "metadata": {
    "slideshow": {
     "slide_type": "fragment"
    }
   },
   "outputs": [],
   "source": []
  },
  {
   "cell_type": "code",
   "execution_count": 20,
   "metadata": {
    "slideshow": {
     "slide_type": "fragment"
    }
   },
   "outputs": [
    {
     "name": "stdout",
     "output_type": "stream",
     "text": [
      "ID        False\n",
      "Ticker    False\n",
      "Title     False\n",
      "Source     True\n",
      "dtype: bool\n"
     ]
    },
    {
     "data": {
      "text/html": [
       "<div>\n",
       "<style scoped>\n",
       "    .dataframe tbody tr th:only-of-type {\n",
       "        vertical-align: middle;\n",
       "    }\n",
       "\n",
       "    .dataframe tbody tr th {\n",
       "        vertical-align: top;\n",
       "    }\n",
       "\n",
       "    .dataframe thead th {\n",
       "        text-align: right;\n",
       "    }\n",
       "</style>\n",
       "<table border=\"1\" class=\"dataframe\">\n",
       "  <thead>\n",
       "    <tr style=\"text-align: right;\">\n",
       "      <th></th>\n",
       "      <th>ID</th>\n",
       "      <th>Ticker</th>\n",
       "      <th>Title</th>\n",
       "      <th>Source</th>\n",
       "    </tr>\n",
       "  </thead>\n",
       "  <tbody>\n",
       "    <tr>\n",
       "      <th>226</th>\n",
       "      <td>ARTW2</td>\n",
       "      <td>ARTW</td>\n",
       "      <td>Art's Way Manufacturing Announces 10% Year Ove...</td>\n",
       "      <td>NaN</td>\n",
       "    </tr>\n",
       "  </tbody>\n",
       "</table>\n",
       "</div>"
      ],
      "text/plain": [
       "        ID Ticker                                              Title Source\n",
       "226  ARTW2   ARTW  Art's Way Manufacturing Announces 10% Year Ove...    NaN"
      ]
     },
     "execution_count": 20,
     "metadata": {},
     "output_type": "execute_result"
    }
   ],
   "source": [
    "print(pr_main.isnull().any())\n",
    "\n",
    "pr_main[pr_main[\"Source\"].isna()]"
   ]
  },
  {
   "cell_type": "code",
   "execution_count": 21,
   "metadata": {
    "slideshow": {
     "slide_type": "slide"
    }
   },
   "outputs": [
    {
     "name": "stdout",
     "output_type": "stream",
     "text": [
      "[1] ID     Ticker Title  Source Date  \n",
      "<0 rows> (or 0-length row.names)\n"
     ]
    }
   ],
   "source": [
    "%%R\n",
    "subset(pr_main, is.na(pr_main$Source))\n",
    "subset(pr_main, pr_main$Source==\"\")"
   ]
  },
  {
   "cell_type": "markdown",
   "metadata": {
    "slideshow": {
     "slide_type": "slide"
    }
   },
   "source": [
    "# <span style=\"color:purple\">Q3b: How do we check the length of Titles?</span>"
   ]
  },
  {
   "cell_type": "code",
   "execution_count": null,
   "metadata": {
    "slideshow": {
     "slide_type": "fragment"
    }
   },
   "outputs": [],
   "source": []
  },
  {
   "cell_type": "code",
   "execution_count": 22,
   "metadata": {
    "slideshow": {
     "slide_type": "fragment"
    }
   },
   "outputs": [
    {
     "name": "stdout",
     "output_type": "stream",
     "text": [
      "[18, 238]\n",
      "[18, 238]\n"
     ]
    }
   ],
   "source": [
    "print([min(pr_main[\"Title\"].apply(len)), max(pr_main[\"Title\"].apply(len))])\n",
    "print([min(pr_dates[\"Title\"].apply(len)), max(pr_dates[\"Title\"].apply(len))])"
   ]
  },
  {
   "cell_type": "code",
   "execution_count": 23,
   "metadata": {
    "slideshow": {
     "slide_type": "fragment"
    }
   },
   "outputs": [
    {
     "name": "stdout",
     "output_type": "stream",
     "text": [
      "[1]  18 238\n",
      "[1]  18 238\n",
      "[1] \"AWS Announces Five New Capabilities for Amazon Connect, Helping Customer Service Representatives Offer More Personalized, Efficient, and Effective Experiences for Customers—All Powered by AWS’s Industry-Leading Machine Learning Technology\"\n",
      "[1] \"AWS Announces Five New Capabilities for Amazon Connect, Helping Customer Service Representatives Offer More Personalized, Efficient, and Effective Experiences for Customers—All Powered by AWS’s Industry-Leading Machine Learning Technology\"\n"
     ]
    }
   ],
   "source": [
    "%%R\n",
    "print(c(min(nchar(pr_main$Title)), max(nchar(pr_main$Title))))\n",
    "print(c(min(nchar(pr_dates$Title)), max(nchar(pr_dates$Title))))\n",
    "print(subset(pr_main$Title, nchar(pr_main$Title)==238))\n",
    "print(subset(pr_dates$Title, nchar(pr_dates$Title)==238))"
   ]
  },
  {
   "cell_type": "markdown",
   "metadata": {
    "slideshow": {
     "slide_type": "slide"
    }
   },
   "source": [
    "# <span style=\"color:purple\">Data Types</span>\n",
    "<center><img src=\"../figures/data_types.png\" width=\"80%\"'/></center>\n",
    "    https://swcarpentry.github.io/r-novice-inflammation/13-supp-data-structures/ "
   ]
  },
  {
   "cell_type": "markdown",
   "metadata": {
    "slideshow": {
     "slide_type": "slide"
    }
   },
   "source": [
    "# <span style=\"color:purple\">Q4: How can we fix the date variables?</span>"
   ]
  },
  {
   "cell_type": "code",
   "execution_count": 24,
   "metadata": {
    "slideshow": {
     "slide_type": "fragment"
    }
   },
   "outputs": [
    {
     "name": "stdout",
     "output_type": "stream",
     "text": [
      "[1] \"character\"\n",
      "[1] \"2021-01-27T21:30:00.000Z\"\n",
      "[1] \"character\"\n",
      "[1] \"1/2/20\"\n"
     ]
    }
   ],
   "source": [
    "%%R\n",
    "print(class(pr_dates$Date))\n",
    "print(pr_dates$Date[1])\n",
    "print(class(stocks$date))\n",
    "print(stocks$date[1])"
   ]
  },
  {
   "cell_type": "code",
   "execution_count": null,
   "metadata": {
    "slideshow": {
     "slide_type": "fragment"
    }
   },
   "outputs": [],
   "source": []
  },
  {
   "cell_type": "code",
   "execution_count": 25,
   "metadata": {
    "slideshow": {
     "slide_type": "slide"
    }
   },
   "outputs": [
    {
     "name": "stdout",
     "output_type": "stream",
     "text": [
      "2021-01-27T21:30:00.000Z\n",
      "<class 'str'>\n",
      "2021-01-27T21:30:00.000Z\n",
      "<class 'str'>\n",
      "1/2/20\n",
      "<class 'str'>\n"
     ]
    }
   ],
   "source": [
    "# split dates at T\n",
    "#pr_dates[\"Date\"] = pr_dates[\"Date\"].str.split(\"T\").str[0]\n",
    "print(pr_dates[\"Date\"][0])\n",
    "print(type(pr_dates[\"Date\"][0]))\n",
    "\n",
    "# convert variable to a date\n",
    "#pr_dates[\"Date\"] = pd.to_datetime(pr_dates['Date'])\n",
    "print(pr_dates[\"Date\"][0])\n",
    "print(type(pr_dates[\"Date\"][0]))\n",
    "\n",
    "#stocks2[\"date\"] = pd.to_datetime(stocks2[\"date\"])\n",
    "print(stocks2[\"date\"][0])\n",
    "print(type(stocks2[\"date\"][0]))"
   ]
  },
  {
   "cell_type": "markdown",
   "metadata": {
    "slideshow": {
     "slide_type": "slide"
    }
   },
   "source": [
    "# <span style=\"color:purple\">Q5: Can we use Regular Expressions to fix dates?</span>"
   ]
  },
  {
   "cell_type": "code",
   "execution_count": null,
   "metadata": {
    "slideshow": {
     "slide_type": "fragment"
    }
   },
   "outputs": [],
   "source": []
  },
  {
   "cell_type": "code",
   "execution_count": 135,
   "metadata": {
    "slideshow": {
     "slide_type": "fragment"
    }
   },
   "outputs": [
    {
     "name": "stdout",
     "output_type": "stream",
     "text": [
      "[1] NA\n",
      "[1] \"Date\"\n",
      "[1] \"1/2/20\"\n",
      "[1] \"2020-01-02\"\n",
      "[1] \"Date\"\n"
     ]
    }
   ],
   "source": [
    "%%R\n",
    "# Using Regular Expression Here\n",
    "install.packages(\"stringr\", repos='http://cran.us.r-project.org', quiet=TRUE)\n",
    "library(stringr)\n",
    "pr_dates$Date <- str_extract(pr_dates$Date, \"^(.*?)T\")\n",
    "pr_dates$Date <- gsub(\"T\", \"\", pr_dates$Date)\n",
    "print(pr_dates$Date[1])\n",
    "pr_dates$Date <- as.Date(pr_dates$Date)\n",
    "print(class(pr_dates$Date))\n",
    "\n",
    "print(stocks$date[1])\n",
    "stocks$date <- as.Date(stocks$date, \"%m/%d/%y\")\n",
    "print(stocks$date[1])\n",
    "print(class(stocks$date))"
   ]
  },
  {
   "cell_type": "markdown",
   "metadata": {
    "slideshow": {
     "slide_type": "slide"
    }
   },
   "source": [
    "# <span style=\"color:purple\">Q6: Could we visualize the stock price data? </span>\n"
   ]
  },
  {
   "cell_type": "code",
   "execution_count": 27,
   "metadata": {
    "slideshow": {
     "slide_type": "fragment"
    }
   },
   "outputs": [
    {
     "name": "stdout",
     "output_type": "stream",
     "text": [
      "[-1.675, 3531.44995]\n"
     ]
    }
   ],
   "source": [
    "stocks2.head()\n",
    "print([min(stocks2[\"value\"]), max(stocks2[\"value\"])])"
   ]
  },
  {
   "cell_type": "code",
   "execution_count": null,
   "metadata": {
    "slideshow": {
     "slide_type": "fragment"
    }
   },
   "outputs": [],
   "source": []
  },
  {
   "cell_type": "code",
   "execution_count": 28,
   "metadata": {
    "slideshow": {
     "slide_type": "slide"
    }
   },
   "outputs": [
    {
     "data": {
      "image/png": "[encoded data removed]"
     },
     "metadata": {},
     "output_type": "display_data"
    }
   ],
   "source": [
    "%%R -w 900 -h 600\n",
    "install.packages(\"ggplot2\", repos='http://cran.us.r-project.org', quiet=TRUE)\n",
    "library(ggplot2)\n",
    "ggplot(data = stocks) + \n",
    "  geom_point(mapping = aes(x = date, y = price, color = ticker))"
   ]
  },
  {
   "cell_type": "code",
   "execution_count": 29,
   "metadata": {
    "slideshow": {
     "slide_type": "slide"
    }
   },
   "outputs": [
    {
     "data": {
      "image/png": "[encoded data removed]"
     },
     "metadata": {},
     "output_type": "display_data"
    }
   ],
   "source": [
    "%%R -w 900 -h 600\n",
    "install.packages(\"ggplot2\", repos='http://cran.us.r-project.org', quiet=TRUE)\n",
    "library(ggplot2)\n",
    "stocks_check <- subset(stocks, stocks$ticker==\"EVGN\" | stocks$ticker==\"AAPL\" | stocks$ticker==\"ARTW\")\n",
    "ggplot(data = stocks_check) + \n",
    "  geom_point(mapping = aes(x = date, y = price, color = ticker)) +\n",
    "  ggtitle(\"Stock Price over Time\")"
   ]
  },
  {
   "cell_type": "markdown",
   "metadata": {
    "slideshow": {
     "slide_type": "fragment"
    }
   },
   "source": [
    "Apple had a 4 for 1 split in August 2020"
   ]
  },
  {
   "cell_type": "code",
   "execution_count": 136,
   "metadata": {
    "slideshow": {
     "slide_type": "slide"
    }
   },
   "outputs": [
    {
     "data": {
      "image/png": "[encoded data removed]"
     },
     "metadata": {},
     "output_type": "display_data"
    }
   ],
   "source": [
    "%%R -w 900 -h 600\n",
    "install.packages(\"ggplot2\", repos='http://cran.us.r-project.org', quiet=TRUE)\n",
    "library(ggplot2)\n",
    "stocks_check <- subset(stocks, stocks$ticker==\"EVGN\" | stocks$ticker==\"ARTW\")\n",
    "ggplot(data = stocks_check) + \n",
    "  geom_point(mapping = aes(x = date, y = price, color = ticker)) +\n",
    "  ggtitle(\"Stock Price over Time\")"
   ]
  },
  {
   "cell_type": "markdown",
   "metadata": {
    "slideshow": {
     "slide_type": "fragment"
    }
   },
   "source": [
    "There is a negative value in EVGN's stock price. This happened because our data source (CRSP) accounts for low trading volume on a given day by placing a negative in front of the stock price."
   ]
  },
  {
   "cell_type": "markdown",
   "metadata": {
    "slideshow": {
     "slide_type": "slide"
    }
   },
   "source": [
    "# <span style=\"color:purple\">Q7: What kinds of logical checks can we do on stock price? </span>\n"
   ]
  },
  {
   "cell_type": "code",
   "execution_count": null,
   "metadata": {
    "slideshow": {
     "slide_type": "fragment"
    }
   },
   "outputs": [],
   "source": []
  },
  {
   "cell_type": "code",
   "execution_count": null,
   "metadata": {
    "slideshow": {
     "slide_type": "fragment"
    }
   },
   "outputs": [],
   "source": [
    "%%R\n",
    "# Check if there are alpha characters in stock price\n",
    "subset(stocks, grepl(\"[A-Z]\",stocks$price, ignore.case = TRUE)==TRUE)"
   ]
  },
  {
   "cell_type": "code",
   "execution_count": null,
   "metadata": {
    "slideshow": {
     "slide_type": "fragment"
    }
   },
   "outputs": [],
   "source": [
    "%%R\n",
    "# Check if there are alpha characters in stock price\n",
    "subset(stocks, stocks$price<0)"
   ]
  },
  {
   "cell_type": "markdown",
   "metadata": {
    "slideshow": {
     "slide_type": "slide"
    }
   },
   "source": [
    "# <span style=\"color:purple\">Data Validation Packages </span>\n"
   ]
  },
  {
   "cell_type": "markdown",
   "metadata": {
    "slideshow": {
     "slide_type": "fragment"
    }
   },
   "source": [
    "Validation package in R - \n",
    "* https://cran.r-project.org/web/packages/validate/vignettes/cookbook.html\n",
    "\n",
    "<br>\n",
    "\n",
    "Panderas package in Python -\n",
    "* https://pandera.readthedocs.io/en/latest/index.html\n"
   ]
  },
  {
   "cell_type": "markdown",
   "metadata": {
    "slideshow": {
     "slide_type": "slide"
    }
   },
   "source": [
    "# <span style=\"color:purple\">Merging Datasets</span>\n",
    "\n",
    "First, we can merge the two data frames from Yahoo Finance.\n"
   ]
  },
  {
   "cell_type": "code",
   "execution_count": 44,
   "metadata": {
    "slideshow": {
     "slide_type": "fragment"
    }
   },
   "outputs": [
    {
     "name": "stdout",
     "output_type": "stream",
     "text": [
      "[1] 375\n",
      "[1] \"character\"\n",
      "[1] \"ID\"     \"Ticker\" \"Title\"  \"Source\" \"Date\"  \n",
      "[1] 371\n",
      "[1] \"character\"\n",
      "[1] \"ID\"   \"Date\"\n"
     ]
    }
   ],
   "source": [
    "%%R\n",
    "print(length(unique(pr_main$ID)))\n",
    "print(class(pr_main$ID))\n",
    "print(colnames(pr_main))\n",
    "pr_main <- pr_main[,1:4]\n",
    "\n",
    "print(length(unique(pr_dates$ID)))\n",
    "print(class(pr_dates$ID))\n",
    "print(colnames(pr_dates))\n",
    "pr_dates <- pr_dates[,-2]\n"
   ]
  },
  {
   "cell_type": "code",
   "execution_count": 116,
   "metadata": {
    "slideshow": {
     "slide_type": "slide"
    }
   },
   "outputs": [
    {
     "name": "stdout",
     "output_type": "stream",
     "text": [
      "── Data Summary ────────────────────────\n",
      "                           Values\n",
      "Name                       prs   \n",
      "Number of rows             375   \n",
      "Number of columns          5     \n",
      "_______________________          \n",
      "Column type frequency:           \n",
      "  character                4     \n",
      "  Date                     1     \n",
      "________________________         \n",
      "Group variables            None  \n",
      "\n",
      "── Variable type: character ────────────────────────────────────────────────────\n",
      "  skim_variable n_missing complete_rate   min   max empty n_unique whitespace\n",
      "1 ID                    0         1         3     7     0      375          0\n",
      "2 Ticker                0         1         2     4     0        7          0\n",
      "3 Title                 0         1        18   238     0      371          0\n",
      "4 Source                1         0.997     9    58     0        6          0\n",
      "\n",
      "── Variable type: Date ─────────────────────────────────────────────────────────\n",
      "  skim_variable n_missing complete_rate min        max        median    \n",
      "1 Date                  4         0.989 2020-01-31 2021-02-05 2020-09-17\n",
      "  n_unique\n",
      "1      164\n"
     ]
    }
   ],
   "source": [
    "%%R\n",
    "install.packages(\"plyr\", repos='http://cran.us.r-project.org', quiet=TRUE)\n",
    "library(plyr)\n",
    "prs <- join(pr_main, pr_dates, by=\"ID\", type=\"left\", match=\"all\")\n",
    "skim(prs)"
   ]
  },
  {
   "cell_type": "code",
   "execution_count": 100,
   "metadata": {
    "slideshow": {
     "slide_type": "slide"
    }
   },
   "outputs": [
    {
     "name": "stdout",
     "output_type": "stream",
     "text": [
      "        ID Ticker\n",
      "277   FB16     FB\n",
      "279   FB18     FB\n",
      "281   FB20     FB\n",
      "375 MSFT83   MSFT\n",
      "                                                                                                                                                               Title\n",
      "277                                                                                                                   Drew Houston Joins Facebook Board of Directors\n",
      "279 INVESTIGATION REMINDER: The Schall Law Firm Announces it is Investigating Claims Against Facebook, Inc. and Encourages Investors with Losses to Contact the Firm\n",
      "281    INVESTIGATION ALERT: The Schall Law Firm Announces It Is Investigating Claims Against Facebook, Inc. and Encourages Investors With Losses to Contact the Firm\n",
      "375                                                                                                                   /C O R R E C T I O N -- Microsoft Corporation/\n",
      "           Source Date\n",
      "277   PR Newswire <NA>\n",
      "279 Business Wire <NA>\n",
      "281 Business Wire <NA>\n",
      "375   PR Newswire <NA>\n"
     ]
    }
   ],
   "source": [
    "%%R\n",
    "subset(prs, is.na(prs$Date))"
   ]
  },
  {
   "cell_type": "markdown",
   "metadata": {
    "slideshow": {
     "slide_type": "fragment"
    }
   },
   "source": [
    "If we open these articles, we'll see that they were from over 1 year ago and are no longer saved in their full format on Yahoo Finance."
   ]
  },
  {
   "cell_type": "markdown",
   "metadata": {
    "slideshow": {
     "slide_type": "slide"
    }
   },
   "source": [
    "# <span style=\"color:purple\">Identify Financial and Other Press Releases</span>\n"
   ]
  },
  {
   "cell_type": "code",
   "execution_count": 117,
   "metadata": {
    "slideshow": {
     "slide_type": "fragment"
    }
   },
   "outputs": [
    {
     "name": "stdout",
     "output_type": "stream",
     "text": [
      "       ID Ticker\n",
      "1   AAPL1   AAPL\n",
      "32 AAPL32   AAPL\n",
      "48 AAPL48   AAPL\n",
      "55 AAPL55   AAPL\n",
      "58  AMZN3   AMZN\n",
      "61  AMZN6   AMZN\n",
      "                                                                         Title\n",
      "1                                          Apple Reports First Quarter Results\n",
      "32                                         Apple Reports Third Quarter Results\n",
      "48                                        Apple Reports Second Quarter Results\n",
      "55                                       Investor Update on Quarterly Guidance\n",
      "58                   Amazon.com Announces Financial Results and CEO Transition\n",
      "61 Amazon.com to Webcast Fourth Quarter 2020 Financial Results Conference Call\n",
      "          Source       Date  fin\n",
      "1  Business Wire 2021-01-27 TRUE\n",
      "32 Business Wire 2020-07-30 TRUE\n",
      "48 Business Wire 2020-04-30 TRUE\n",
      "55 Business Wire 2020-02-17 TRUE\n",
      "58 Business Wire 2021-02-02 TRUE\n",
      "61 Business Wire 2021-01-19 TRUE\n"
     ]
    }
   ],
   "source": [
    "%%R\n",
    "colnames(prs)\n",
    "prs$fin <- grepl(\"(fiscal|financial|quarter|results)\", prs$Title, ignore.case=TRUE)\n",
    "head(subset(prs, prs$fin==TRUE))"
   ]
  },
  {
   "cell_type": "code",
   "execution_count": 118,
   "metadata": {
    "slideshow": {
     "slide_type": "slide"
    }
   },
   "outputs": [],
   "source": [
    "%%R\n",
    "prs$other <- ifelse(prs$fin==TRUE, 0, 1)\n",
    "prs$fin <- ifelse(prs$fin==TRUE, 1, 0)"
   ]
  },
  {
   "cell_type": "code",
   "execution_count": 119,
   "metadata": {
    "slideshow": {
     "slide_type": "fragment"
    }
   },
   "outputs": [
    {
     "name": "stdout",
     "output_type": "stream",
     "text": [
      "[1] \"ID\"     \"Ticker\" \"Title\"  \"Source\" \"Date\"   \"fin\"    \"other\" \n",
      "[1] \"Ticker\" \"Date\"   \"fin\"    \"other\" \n"
     ]
    }
   ],
   "source": [
    "%%R\n",
    "subset(prs, prs$fin==1 & prs$other==1)\n",
    "print(colnames(prs))\n",
    "prs <- prs[,c(2,5:7)]\n",
    "print(colnames(prs))"
   ]
  },
  {
   "cell_type": "code",
   "execution_count": 124,
   "metadata": {
    "slideshow": {
     "slide_type": "slide"
    }
   },
   "outputs": [
    {
     "name": "stdout",
     "output_type": "stream",
     "text": [
      "[1] 375   4\n",
      "[1] 262   4\n"
     ]
    }
   ],
   "source": [
    "%%R\n",
    "# Let's remove duplicates\n",
    "print(dim(prs))\n",
    "prs <- unique(prs)\n",
    "print(dim(prs))"
   ]
  },
  {
   "cell_type": "code",
   "execution_count": 129,
   "metadata": {
    "slideshow": {
     "slide_type": "fragment"
    }
   },
   "outputs": [
    {
     "name": "stdout",
     "output_type": "stream",
     "text": [
      "[1] 251   4\n",
      "    Ticker       Date fin other\n",
      "43    MSFT 2020-05-14   1     1\n",
      "75    AMZN 2020-07-16   1     1\n",
      "103   EVGN 2020-08-05   1     1\n",
      "135   MSFT 2020-09-15   1     1\n",
      "162   AMZN 2020-10-15   1     1\n",
      "173   AMZN 2020-10-29   1     1\n",
      "198   EVGN 2020-11-18   1     1\n",
      "237   AMZN 2021-01-19   1     1\n",
      "246     FB 2021-01-27   1     1\n"
     ]
    }
   ],
   "source": [
    "%%R\n",
    "prs <- aggregate(.~Ticker+Date, prs, sum)\n",
    "print(dim(prs))\n",
    "subset(prs, prs$fin==1 & prs$other==1)"
   ]
  },
  {
   "cell_type": "markdown",
   "metadata": {
    "slideshow": {
     "slide_type": "slide"
    }
   },
   "source": [
    "# <span style=\"color:purple\">Now we can merge the press release and stock datasets</span>\n"
   ]
  },
  {
   "cell_type": "code",
   "execution_count": 88,
   "metadata": {
    "slideshow": {
     "slide_type": "fragment"
    }
   },
   "outputs": [
    {
     "name": "stdout",
     "output_type": "stream",
     "text": [
      "[1] \"ID\"     \"Ticker\" \"Title\"  \"Source\" \"Date\"  \n",
      "[1] \"Date\"\n",
      "[1] NA\n",
      "[1] NA\n"
     ]
    }
   ],
   "source": [
    "%%R\n",
    "\n",
    "#prs <- subset(prs, !is.na(prs$Date))\n",
    "print(colnames(prs))\n",
    "print(class(prs$Date))\n",
    "print(min(prs$Date))\n",
    "print(max(prs$Date))"
   ]
  },
  {
   "cell_type": "code",
   "execution_count": 89,
   "metadata": {
    "slideshow": {
     "slide_type": "fragment"
    }
   },
   "outputs": [
    {
     "name": "stdout",
     "output_type": "stream",
     "text": [
      "[1] \"Date\"   \"ticker\" \"price\" \n",
      "[1] \"Date\"\n",
      "[1] \"2020-01-31\"\n",
      "[1] \"2020-12-31\"\n"
     ]
    }
   ],
   "source": [
    "%%R\n",
    "print(colnames(stocks))\n",
    "names(stocks) <- c(\"Date\", \"Ticker\", \"Price\")\n",
    "print(class(stocks$Date))\n",
    "print(min(stocks$Date))\n",
    "print(max(stocks$Date))"
   ]
  },
  {
   "cell_type": "code",
   "execution_count": 130,
   "metadata": {
    "slideshow": {
     "slide_type": "slide"
    }
   },
   "outputs": [
    {
     "name": "stdout",
     "output_type": "stream",
     "text": [
      "[1] \"2020-12-29\"\n",
      "[1] \"2020-01-31\"\n"
     ]
    }
   ],
   "source": [
    "%%R\n",
    "prs <- subset(prs, prs$Date<=\"2020-12-31\") \n",
    "print(max(prs$Date))\n",
    "\n",
    "stocks <- subset(stocks, stocks$Date>=\"2020-01-31\") \n",
    "print(min(stocks$Date))"
   ]
  },
  {
   "cell_type": "code",
   "execution_count": 131,
   "metadata": {
    "slideshow": {
     "slide_type": "fragment"
    }
   },
   "outputs": [
    {
     "name": "stdout",
     "output_type": "stream",
     "text": [
      "[1] 1864    5\n",
      "[1] 1864    3\n"
     ]
    }
   ],
   "source": [
    "%%R\n",
    "prs <- join(stocks, prs, by=c(\"Date\", \"Ticker\"), type=\"left\", match=\"all\")\n",
    "print(dim(prs))\n",
    "print(dim(stocks))"
   ]
  },
  {
   "cell_type": "markdown",
   "metadata": {
    "slideshow": {
     "slide_type": "slide"
    }
   },
   "source": [
    "# <span style=\"color:purple\">How do we determine whether financial press releases affect stock price movements? Any Suggestions for Next Steps? </span>\n"
   ]
  },
  {
   "cell_type": "code",
   "execution_count": null,
   "metadata": {},
   "outputs": [],
   "source": []
  }
 ],
 "metadata": {
  "celltoolbar": "Slideshow",
  "kernelspec": {
   "display_name": "Python 3",
   "language": "python",
   "name": "python3"
  },
  "language_info": {
   "codemirror_mode": {
    "name": "ipython",
    "version": 3
   },
   "file_extension": ".py",
   "mimetype": "text/x-python",
   "name": "python",
   "nbconvert_exporter": "python",
   "pygments_lexer": "ipython3",
   "version": "3.9.1"
  },
  "nteract": {
   "version": "0.28.0"
  }
 },
 "nbformat": 4,
 "nbformat_minor": 4
}
