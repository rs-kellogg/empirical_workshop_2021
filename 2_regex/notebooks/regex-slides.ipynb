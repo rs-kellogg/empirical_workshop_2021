{
 "cells": [
  {
   "cell_type": "code",
   "execution_count": null,
   "metadata": {
    "slideshow": {
     "slide_type": "skip"
    }
   },
   "outputs": [],
   "source": [
    "import re\n",
    "import typer\n",
    "import pandas as pd\n",
    "\n",
    "from typing import Dict\n",
    "from pathlib import Path"
   ]
  },
  {
   "cell_type": "markdown",
   "metadata": {
    "slideshow": {
     "slide_type": "slide"
    }
   },
   "source": [
    "# <span style=\"color:purple\">Regular Expressions and Their Applications</span>\n",
    "\n",
    "## Empirical Workshop\n",
    "\n",
    "### Winter, 2021"
   ]
  },
  {
   "cell_type": "markdown",
   "metadata": {
    "slideshow": {
     "slide_type": "slide"
    }
   },
   "source": [
    "<center><img src=\"../figures/library.png\" width=\"25%\" style='border:5px solid #000000'/></center>\n"
   ]
  },
  {
   "cell_type": "markdown",
   "metadata": {
    "slideshow": {
     "slide_type": "fragment"
    }
   },
   "source": [
    "* Vast amounts of information are encoded as unstructured data, in the form of text. Fortunately, a lot of it is already stored digitally and is available for computational analysis."
   ]
  },
  {
   "cell_type": "markdown",
   "metadata": {
    "slideshow": {
     "slide_type": "fragment"
    }
   },
   "source": [
    "* What tools can we use to perform this analysis?"
   ]
  },
  {
   "cell_type": "markdown",
   "metadata": {
    "slideshow": {
     "slide_type": "slide"
    }
   },
   "source": [
    "# <span style=\"color:purple\">The Tool to Use Depends on Text Format and Your Goals</span>\n",
    "\n",
    "<br>\n",
    "<br>\n",
    "<br>\n",
    "\n",
    "<center><img src=\"../figures/unstrctured-data-types.png\" width=\"80%\" style='border:5px solid #000000'/></center>"
   ]
  },
  {
   "cell_type": "markdown",
   "metadata": {
    "slideshow": {
     "slide_type": "subslide"
    }
   },
   "source": [
    "<center><img src=\"../figures/workflow.png\" width=\"80%\" style='border:5px solid #000000'/></center>"
   ]
  },
  {
   "cell_type": "markdown",
   "metadata": {
    "slideshow": {
     "slide_type": "slide"
    }
   },
   "source": [
    "# <span style=\"color:purple\">Example: Insider Trading Data: SEC Form 4</span>\n",
    "\n",
    "Form 4 filings are reports submitted to the SEC by investors who buy or sell shares in companies where they are deemed insiders. The SEC defines an insider as any officer, director or more than 10% shareholder of a publicly traded company.\n",
    "\n",
    "* https://www.sec.gov/files/forms-3-4-5.pdf\n",
    "* https://www.sec.gov/Archives/edgar/data/1326190/000101297517000759/xslF345X03/edgar.xml\n",
    "* https://whalewisdomalpha.com/form-4-insider-trading-analysis/"
   ]
  },
  {
   "cell_type": "markdown",
   "metadata": {
    "slideshow": {
     "slide_type": "skip"
    }
   },
   "source": [
    "* https://www.sec.gov/Archives/edgar/data/1326190/000101297517000759/"
   ]
  },
  {
   "cell_type": "markdown",
   "metadata": {
    "slideshow": {
     "slide_type": "slide"
    }
   },
   "source": [
    "# <span style=\"color:purple\">Regular Expressions: The Swiss Army Knife for Text</span>"
   ]
  },
  {
   "cell_type": "markdown",
   "metadata": {
    "slideshow": {
     "slide_type": "subslide"
    }
   },
   "source": [
    "<center><img src=\"../figures/regular_expressions.png\" height=\"100%\" style='border:5px solid #000000'/></center>\n",
    "\n",
    "<center>https://xkcd.com/208/</center>"
   ]
  },
  {
   "cell_type": "markdown",
   "metadata": {
    "slideshow": {
     "slide_type": "slide"
    }
   },
   "source": [
    "# <span style=\"color:purple\">What Are Regular Expressions</span>\n",
    "\n",
    "\n",
    "Regular expressions (called REs, or regexes, or regex patterns) are essentially a tiny, highly specialized programming language. Using this little language, you specify the rules for the set of possible strings that you want to match\n",
    "\n",
    "* They've been around for decades (https://en.wikipedia.org/wiki/Regular_expression)\n",
    "* Practically every programming language supports them (e.g, https://docs.python.org/3/howto/regex.html)\n",
    "* Command line tools such as grep support them (https://en.wikipedia.org/wiki/Grep)\n",
    "\n",
    "Lot of web tools exist:\n",
    "\n",
    "* https://regex101.com/\n",
    "* https://www.debuggex.com/"
   ]
  },
  {
   "cell_type": "markdown",
   "metadata": {
    "slideshow": {
     "slide_type": "slide"
    }
   },
   "source": [
    "# <span style=\"color:purple\">Python Example</span>\n",
    "\n",
    "<br>\n",
    "<br>\n",
    "<br>\n",
    "\n",
    "<center><img src=\"../figures/create_regex.png\" width=\"50%\" style='border:5px solid #000000'/></center>"
   ]
  },
  {
   "cell_type": "code",
   "execution_count": null,
   "metadata": {
    "slideshow": {
     "slide_type": "subslide"
    }
   },
   "outputs": [],
   "source": [
    "# Store the text in a python variable\n",
    "\n",
    "file = Path(\"../data/0001012975-17-000759.txt\")\n",
    "text = file.read_text()\n",
    "typer.secho(text, fg=typer.colors.WHITE, bg=typer.colors.BLACK)"
   ]
  },
  {
   "cell_type": "code",
   "execution_count": null,
   "metadata": {
    "slideshow": {
     "slide_type": "subslide"
    }
   },
   "outputs": [],
   "source": [
    "# Create a pattern string\n",
    "\n",
    "pat_str = r\"^\\s*FORMER CONFORMED NAME:(.+?)$\"\n",
    "\n",
    "typer.secho(pat_str, fg=typer.colors.WHITE, bg=typer.colors.BLACK)"
   ]
  },
  {
   "cell_type": "code",
   "execution_count": null,
   "metadata": {
    "slideshow": {
     "slide_type": "fragment"
    }
   },
   "outputs": [],
   "source": [
    "# Compile the pattern string into a pattern object\n",
    "\n",
    "pattern = re.compile(pat_str, flags=re.DOTALL | re.MULTILINE)\n",
    "\n",
    "typer.secho(f\"{pattern}\", fg=typer.colors.WHITE, bg=typer.colors.BLACK)"
   ]
  },
  {
   "cell_type": "code",
   "execution_count": null,
   "metadata": {
    "slideshow": {
     "slide_type": "fragment"
    }
   },
   "outputs": [],
   "source": [
    "# Match the pattern against text\n",
    "\n",
    "match = pattern.findall(text)\n",
    "for m in match:\n",
    "    typer.secho(f\"Match: {m}\", fg=typer.colors.WHITE, bg=typer.colors.BLACK)"
   ]
  },
  {
   "cell_type": "code",
   "execution_count": null,
   "metadata": {
    "slideshow": {
     "slide_type": "subslide"
    }
   },
   "outputs": [],
   "source": [
    "# Split the XML tags using Regex with groups\n",
    "\n",
    "xml_pat = re.compile(r\"<XML>(.+)</XML>\", flags=re.DOTALL)\n",
    "match = xml_pat.findall(text)\n",
    "xml_text = match[0].strip() \n",
    "\n",
    "split_pat = re.compile(r\"<(.+)>(.+)<.+>\")\n",
    "match = split_pat.findall(xml_text)\n",
    "for m in match:\n",
    "    typer.secho(f\"{m}\", fg=typer.colors.WHITE, bg=typer.colors.BLACK)\n",
    "    typer.secho(\" \" *(len(m[0])+len(m[1]) + 8), bg=typer.colors.WHITE)"
   ]
  },
  {
   "cell_type": "markdown",
   "metadata": {
    "slideshow": {
     "slide_type": "slide"
    }
   },
   "source": [
    "# <span style=\"color:purple\">Deeper Dive: Regex Pattern Elements</span>\n",
    "\n",
    "* Most characters match themselves: <span style=\"color:blue\">A</span> matches \"A\", <span style=\"color:blue\">9</span> matches \"9\""
   ]
  },
  {
   "cell_type": "markdown",
   "metadata": {
    "slideshow": {
     "slide_type": "fragment"
    }
   },
   "source": [
    "* Sequences of characters match sequences in text: <span style=\"color:blue\">ABC</span> matches \"ABC\""
   ]
  },
  {
   "cell_type": "markdown",
   "metadata": {
    "slideshow": {
     "slide_type": "fragment"
    }
   },
   "source": [
    "* Metacharacters are what allow us to specify abstract patterns: <span style=\"color:blue\">. ^ $ * + ? { } [ ] \\ | ( )</span>"
   ]
  },
  {
   "cell_type": "markdown",
   "metadata": {
    "slideshow": {
     "slide_type": "fragment"
    }
   },
   "source": [
    "* Disjunctions: <span style=\"color:blue\">A|B</span> or <span style=\"color:blue\">[AB]</span>"
   ]
  },
  {
   "cell_type": "markdown",
   "metadata": {
    "slideshow": {
     "slide_type": "fragment"
    }
   },
   "source": [
    "* Character classes and ranges: <span style=\"color:blue\">[A-Z]</span>, <span style=\"color:blue\">\\d</span>, <span style=\"color:blue\">\\s</span>, <span style=\"color:blue\">\\w</span>, <span style=\"color:blue\">.</span>"
   ]
  },
  {
   "cell_type": "markdown",
   "metadata": {
    "slideshow": {
     "slide_type": "fragment"
    }
   },
   "source": [
    "* Operators (repetition and optionality): <span style=\"color:blue\">A*</span>, <span style=\"color:blue\">A+</span>, <span style=\"color:blue\">Ab?</span>"
   ]
  },
  {
   "cell_type": "markdown",
   "metadata": {
    "slideshow": {
     "slide_type": "fragment"
    }
   },
   "source": [
    "* Groups (capture sup-pieces for extraction): <span style=\"color:blue\">A(.+)Z</span>"
   ]
  },
  {
   "cell_type": "markdown",
   "metadata": {
    "slideshow": {
     "slide_type": "slide"
    }
   },
   "source": [
    "# <span style=\"color:purple\">Exploring and Checking Data with GREP</span>\n",
    "\n",
    "<br>\n",
    "<br>\n",
    "<br>\n",
    "\n",
    "<center><img src=\"../figures/man_grep.png\" width=\"100%\"/></center>"
   ]
  },
  {
   "cell_type": "markdown",
   "metadata": {
    "slideshow": {
     "slide_type": "slide"
    }
   },
   "source": [
    "# <span style=\"color:purple\">Scaling up to Multiple Documents</span>\n",
    "\n",
    "<br>\n",
    "<br>\n",
    "<br>\n",
    "\n",
    "<center><img src=\"../figures/information_extraction.png\" width=\"100%\" style='border:5px solid #000000'/></center>"
   ]
  },
  {
   "cell_type": "code",
   "execution_count": null,
   "metadata": {
    "slideshow": {
     "slide_type": "subslide"
    }
   },
   "outputs": [],
   "source": [
    "import re\n",
    "from typing import Dict\n",
    "\n",
    "document_fields_header: Dict[str, re.Pattern] = {\n",
    "    \"accession\": re.compile(r\"ACCESSION NUMBER:(.+?)$\", flags=re.DOTALL | re.MULTILINE),\n",
    "    \"sec_document\": re.compile(r\"<SEC-DOCUMENT>(.+?):\", flags=re.DOTALL | re.MULTILINE),\n",
    "    \"sec_header\": re.compile(r\"<SEC-DOCUMENT>(.+?):\", flags=re.DOTALL | re.MULTILINE),\n",
    "    \"acceptance_datetime\": re.compile(r\"<ACCEPTANCE-DATETIME>(.+?)$\", flags=re.DOTALL | re.MULTILINE)\n",
    "}\n",
    "    \n",
    "for key, val in document_fields_header.items():\n",
    "    typer.secho(f\"key: {key}\", fg=typer.colors.WHITE, bg=typer.colors.RED)\n",
    "    typer.secho(f\"val: {val}\", fg=typer.colors.WHITE, bg=typer.colors.BLACK)"
   ]
  },
  {
   "cell_type": "code",
   "execution_count": null,
   "metadata": {
    "slideshow": {
     "slide_type": "subslide"
    }
   },
   "outputs": [],
   "source": [
    "def extract_doc_header_info(f: Path) -> Dict[str, str]:\n",
    "    text = f.read_text()\n",
    "    row_dict = {\"filename\": f.name}\n",
    "    for field, pat in document_fields_header.items():\n",
    "        row_dict[field] = None\n",
    "        match = pat.findall(text)\n",
    "        if match:\n",
    "            row_dict[field] = match[0].strip()\n",
    "        else:\n",
    "            typer.secho(f\"WARNING: {f} does not contain {field}\", fg=typer.colors.RED)\n",
    "    return row_dict\n",
    "\n",
    "typer.secho(f\"{extract_doc_header_info}\", fg=typer.colors.WHITE, bg=typer.colors.BLACK)"
   ]
  },
  {
   "cell_type": "code",
   "execution_count": null,
   "metadata": {
    "slideshow": {
     "slide_type": "subslide"
    }
   },
   "outputs": [],
   "source": [
    "from pathlib import Path\n",
    "import pandas as pd\n",
    "\n",
    "row_dicts = []\n",
    "in_dir = Path(\"../data/2020-sample\")\n",
    "for f in in_dir.glob(\"*.txt\"):\n",
    "    typer.secho(f\"proccessing file: {f.name}\", fg=typer.colors.WHITE, bg=typer.colors.BLACK)\n",
    "    row_dicts.append(extract_doc_header_info(f))\n",
    "\n",
    "header_df = pd.DataFrame(row_dicts)\n",
    "header_df = header_df.set_index(\"filename\")"
   ]
  },
  {
   "cell_type": "code",
   "execution_count": null,
   "metadata": {
    "slideshow": {
     "slide_type": "subslide"
    }
   },
   "outputs": [],
   "source": [
    "header_df.head(10)"
   ]
  },
  {
   "cell_type": "markdown",
   "metadata": {
    "slideshow": {
     "slide_type": "slide"
    }
   },
   "source": [
    "# <span style=\"color:purple\">Working with XML</span>\n",
    "\n",
    "https://www.xmlviewer.org/"
   ]
  },
  {
   "cell_type": "code",
   "execution_count": null,
   "metadata": {
    "slideshow": {
     "slide_type": "subslide"
    }
   },
   "outputs": [],
   "source": [
    "from typing import Dict\n",
    "\n",
    "document_fields: Dict[str, str] = {\n",
    "    \"schemaVersion\": \"schemaVersion\",\n",
    "    \"documentType\": \"documentType\",\n",
    "    \"periodOfReport\": \"periodOfReport\",\n",
    "    \"notSubjectToSection16\": \"notSubjectToSection16\",\n",
    "    \"issuerCik\": \"issuer/issuerCik\",\n",
    "    \"issuerName\": \"issuer/issuerName\",\n",
    "    \"issuerTradingSymbol\": \"issuer/issuerTradingSymbol\"\n",
    "}\n",
    "    \n",
    "for key, val in document_fields.items():\n",
    "    typer.secho(f\"key: {key}\", fg=typer.colors.WHITE, bg=typer.colors.RED)\n",
    "    typer.secho(f\"val: {val}\", fg=typer.colors.WHITE, bg=typer.colors.BLACK)"
   ]
  },
  {
   "cell_type": "code",
   "execution_count": null,
   "metadata": {
    "slideshow": {
     "slide_type": "subslide"
    }
   },
   "outputs": [],
   "source": [
    "from typing import Dict\n",
    "import xml.etree.ElementTree as ET\n",
    "import re\n",
    "\n",
    "def extract_doc_xml_info(f: Path) -> Dict[str, str]:\n",
    "    text = f.read_text()\n",
    "    row_dict = {\"filename\": f.name}\n",
    "    \n",
    "    # extract the XML portion of the document using a regex\n",
    "    xml_pat = re.compile(r\"<XML>(.+)</XML>\", flags=re.DOTALL)\n",
    "    match = xml_pat.findall(f.read_text())\n",
    "    xml_text = match[0].strip()   \n",
    "    root = ET.fromstring(xml_text)\n",
    "\n",
    "    # iterate through fields and match on path \n",
    "    for field, pat in document_fields.items():\n",
    "        row_dict[field] = None\n",
    "        match = root.find(pat)\n",
    "        if match is not None:\n",
    "            row_dict[field] = match.text.strip()\n",
    "        else:\n",
    "            typer.secho(f\"WARNING: {f.name} does not contain {field}\", bg=typer.colors.BLACK, fg=typer.colors.WHITE)\n",
    "    \n",
    "    return row_dict\n",
    "\n",
    "typer.secho(f\"{extract_doc_xml_info}\", fg=typer.colors.WHITE, bg=typer.colors.BLACK)"
   ]
  },
  {
   "cell_type": "code",
   "execution_count": null,
   "metadata": {
    "scrolled": true,
    "slideshow": {
     "slide_type": "subslide"
    }
   },
   "outputs": [],
   "source": [
    "import typer\n",
    "import pandas as pd\n",
    "from pathlib import Path\n",
    "\n",
    "row_dicts = []\n",
    "in_dir = Path(\"../data/2020-sample\")\n",
    "for f in in_dir.glob(\"*.txt\"):\n",
    "    row_dicts.append(extract_doc_xml_info(f))\n",
    "\n",
    "xml_df = pd.DataFrame(row_dicts)\n",
    "xml_df = xml_df.set_index(\"filename\")"
   ]
  },
  {
   "cell_type": "code",
   "execution_count": null,
   "metadata": {
    "slideshow": {
     "slide_type": "subslide"
    }
   },
   "outputs": [],
   "source": [
    "xml_df.head(10)"
   ]
  },
  {
   "cell_type": "code",
   "execution_count": null,
   "metadata": {
    "slideshow": {
     "slide_type": "subslide"
    }
   },
   "outputs": [],
   "source": [
    "# join the results together\n",
    "df = header_df.join(xml_df)\n",
    "df.head(10)"
   ]
  },
  {
   "cell_type": "markdown",
   "metadata": {
    "slideshow": {
     "slide_type": "skip"
    }
   },
   "source": [
    "# <span style=\"color:purple\">Normalizing Dates with Regex</span>\n",
    "\n",
    "<br>\n",
    "<br>\n",
    "<br>\n",
    "\n",
    "<center><img src=\"../figures/MedjoolDates2lb.png\" width=\"800\" style='border:5px solid #000000'/></center>"
   ]
  },
  {
   "cell_type": "code",
   "execution_count": null,
   "metadata": {
    "slideshow": {
     "slide_type": "subslide"
    }
   },
   "outputs": [],
   "source": [
    "# Normalizing dates with regex\n",
    "\n",
    "df[\"acceptance_datetime\"] = df[\"acceptance_datetime\"].str.replace(r'^(\\d\\d\\d\\d)(\\d\\d)(\\d\\d)(\\d*)', r'\\1-\\2-\\3', regex=True)\n",
    "df.head(10)"
   ]
  },
  {
   "cell_type": "markdown",
   "metadata": {
    "slideshow": {
     "slide_type": "slide"
    }
   },
   "source": [
    "# <span style=\"color:purple\">RegEx Resources</span>"
   ]
  },
  {
   "cell_type": "markdown",
   "metadata": {
    "slideshow": {
     "slide_type": "fragment"
    }
   },
   "source": [
    "* Python: https://docs.python.org/3/howto/regex.html"
   ]
  },
  {
   "cell_type": "markdown",
   "metadata": {
    "slideshow": {
     "slide_type": "fragment"
    }
   },
   "source": [
    "* R: https://cran.r-project.org/web/packages/stringr/vignettes/regular-expressions.html"
   ]
  },
  {
   "cell_type": "markdown",
   "metadata": {
    "slideshow": {
     "slide_type": "fragment"
    }
   },
   "source": [
    "* Stata: https://www.stata.com/support/faqs/data-management/regular-expressions/"
   ]
  },
  {
   "cell_type": "markdown",
   "metadata": {
    "slideshow": {
     "slide_type": "fragment"
    }
   },
   "source": [
    "* If you want to be a master: https://www.amazon.com/dp/0596528124/ref=cm_sw_su_dp"
   ]
  },
  {
   "cell_type": "markdown",
   "metadata": {
    "slideshow": {
     "slide_type": "fragment"
    }
   },
   "source": [
    "* Interactive web page: https://regex101.com/"
   ]
  }
 ],
 "metadata": {
  "celltoolbar": "Slideshow",
  "kernelspec": {
   "display_name": "Python 3",
   "language": "python",
   "name": "python3"
  },
  "language_info": {
   "codemirror_mode": {
    "name": "ipython",
    "version": 3
   },
   "file_extension": ".py",
   "mimetype": "text/x-python",
   "name": "python",
   "nbconvert_exporter": "python",
   "pygments_lexer": "ipython3",
   "version": "3.9.1"
  },
  "toc-autonumbering": true,
  "toc-showcode": true,
  "toc-showtags": true,
  "varInspector": {
   "cols": {
    "lenName": 16,
    "lenType": 16,
    "lenVar": 40
   },
   "kernels_config": {
    "python": {
     "delete_cmd_postfix": "",
     "delete_cmd_prefix": "del ",
     "library": "var_list.py",
     "varRefreshCmd": "print(var_dic_list())"
    },
    "r": {
     "delete_cmd_postfix": ") ",
     "delete_cmd_prefix": "rm(",
     "library": "var_list.r",
     "varRefreshCmd": "cat(var_dic_list()) "
    }
   },
   "types_to_exclude": [
    "module",
    "function",
    "builtin_function_or_method",
    "instance",
    "_Feature"
   ],
   "window_display": false
  }
 },
 "nbformat": 4,
 "nbformat_minor": 4
}
