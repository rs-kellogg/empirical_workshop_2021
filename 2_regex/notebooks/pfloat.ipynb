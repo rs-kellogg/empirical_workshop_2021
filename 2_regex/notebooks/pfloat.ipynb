{
 "cells": [
  {
   "cell_type": "markdown",
   "metadata": {
    "slideshow": {
     "slide_type": "slide"
    }
   },
   "source": [
    "# Public Float Data from 10K statements"
   ]
  },
  {
   "cell_type": "markdown",
   "metadata": {
    "slideshow": {
     "slide_type": "slide"
    }
   },
   "source": [
    "This notebook provides a basic description and some sample code for extracting public float data from the annual reports.\n",
    "\n",
    "First, we need to load in the python libraries that are required for the analysis.  "
   ]
  },
  {
   "cell_type": "code",
   "execution_count": 1,
   "metadata": {
    "slideshow": {
     "slide_type": "slide"
    }
   },
   "outputs": [],
   "source": [
    "import re\n",
    "import bs4 as bs\n",
    "import html2text as trans\n",
    "import textwrap\n",
    "import datefinder\n",
    "import datetime\n",
    "import csv\n",
    "from string import punctuation"
   ]
  },
  {
   "cell_type": "markdown",
   "metadata": {},
   "source": [
    "The 10K text files saved on KLC are the html pages for the annual reports filed on the SEC website.  These html documents were saved as text files without removing the original formatting. In order to create plain text documents, this function removes the html formatting."
   ]
  },
  {
   "cell_type": "code",
   "execution_count": 2,
   "metadata": {},
   "outputs": [],
   "source": [
    "# function to change html to text\n",
    "def clean_html(html):\n",
    "    # First we remove inline JavaScript/CSS:\n",
    "    cleaned = re.sub(r\"(?is)<(script|style).*?>.*?(</\\1>)\", \"\", html.strip())\n",
    "    # Then we remove html comments. This has to be done before removing regular\n",
    "    # tags since comments can contain '>' characters.\n",
    "    cleaned = re.sub(r\"(?s)<!--(.*?)-->[\\n]?\", \"\", cleaned)\n",
    "    # Next we can remove the remaining tags:\n",
    "    cleaned = re.sub(r\"(?s)<.*?>\", \" \", cleaned)\n",
    "    # Finally, we deal with whitespace\n",
    "    cleaned = re.sub(r\"&nbsp;\", \" \", cleaned)\n",
    "    cleaned = re.sub(r\"  \", \" \", cleaned)\n",
    "    cleaned = re.sub(r\"  \", \" \", cleaned)\n",
    "    return cleaned.strip()"
   ]
  },
  {
   "cell_type": "markdown",
   "metadata": {},
   "source": [
    "Here we read in an example 10K for Air Products and Chemicals."
   ]
  },
  {
   "cell_type": "code",
   "execution_count": 3,
   "metadata": {},
   "outputs": [
    {
     "ename": "FileNotFoundError",
     "evalue": "[Errno 2] No such file or directory: '/kellogg/data/EDGAR/10-K/2018/1961_2_000126493-18-000031.txt'",
     "output_type": "error",
     "traceback": [
      "\u001b[0;31m---------------------------------------------------------------------------\u001b[0m",
      "\u001b[0;31mFileNotFoundError\u001b[0m                         Traceback (most recent call last)",
      "\u001b[0;32m<ipython-input-3-36fd74140e1f>\u001b[0m in \u001b[0;36m<module>\u001b[0;34m\u001b[0m\n\u001b[0;32m----> 1\u001b[0;31m \u001b[0mf\u001b[0m \u001b[0;34m=\u001b[0m \u001b[0mopen\u001b[0m\u001b[0;34m(\u001b[0m\u001b[0;34m\"/kellogg/data/EDGAR/10-K/2018/1961_2_000126493-18-000031.txt\"\u001b[0m\u001b[0;34m,\u001b[0m \u001b[0;34m\"r\"\u001b[0m\u001b[0;34m)\u001b[0m \u001b[0;31m# I randomly selected one 10K\u001b[0m\u001b[0;34m\u001b[0m\u001b[0;34m\u001b[0m\u001b[0m\n\u001b[0m\u001b[1;32m      2\u001b[0m \u001b[0msec\u001b[0m \u001b[0;34m=\u001b[0m \u001b[0mf\u001b[0m\u001b[0;34m.\u001b[0m\u001b[0mread\u001b[0m\u001b[0;34m(\u001b[0m\u001b[0;34m)\u001b[0m\u001b[0;34m\u001b[0m\u001b[0;34m\u001b[0m\u001b[0m\n\u001b[1;32m      3\u001b[0m \u001b[0mf\u001b[0m\u001b[0;34m.\u001b[0m\u001b[0mclose\u001b[0m\u001b[0;34m(\u001b[0m\u001b[0;34m)\u001b[0m\u001b[0;34m\u001b[0m\u001b[0;34m\u001b[0m\u001b[0m\n\u001b[1;32m      4\u001b[0m \u001b[0msec\u001b[0m \u001b[0;34m=\u001b[0m \u001b[0mclean_html\u001b[0m\u001b[0;34m(\u001b[0m\u001b[0msec\u001b[0m\u001b[0;34m)\u001b[0m\u001b[0;34m\u001b[0m\u001b[0;34m\u001b[0m\u001b[0m\n\u001b[1;32m      5\u001b[0m \u001b[0msec\u001b[0m \u001b[0;34m=\u001b[0m \u001b[0mtrans\u001b[0m\u001b[0;34m.\u001b[0m\u001b[0mhtml2text\u001b[0m\u001b[0;34m(\u001b[0m\u001b[0msec\u001b[0m\u001b[0;34m)\u001b[0m \u001b[0;31m# this is another python library that converts html to text\u001b[0m\u001b[0;34m\u001b[0m\u001b[0;34m\u001b[0m\u001b[0m\n",
      "\u001b[0;31mFileNotFoundError\u001b[0m: [Errno 2] No such file or directory: '/kellogg/data/EDGAR/10-K/2018/1961_2_000126493-18-000031.txt'"
     ]
    }
   ],
   "source": [
    "f = open(\"/kellogg/data/EDGAR/10-K/2018/1961_2_000126493-18-000031.txt\", \"r\") # I randomly selected one 10K\n",
    "sec = f.read()\n",
    "f.close() \n",
    "sec = clean_html(sec)\n",
    "sec = trans.html2text(sec) # this is another python library that converts html to text\n",
    "sec = sec.replace('\\n', ' ') # removes any remaining new lines\n",
    "sec = sec.replace('\\t', ' ') # removes any remaining tabs\n",
    "sec = sec.replace('\\r', ' ') # removes any remaining return spaces\n",
    "sec_long = sec # this contains the text from the entire document\n",
    "sec = sec[0:50000] # this only contains the first 50,000 characters"
   ]
  },
  {
   "cell_type": "markdown",
   "metadata": {},
   "source": [
    "Company Name\n",
    "Here we can use regular expressions within python to retrieve the Company Name. Essentially the regular expression is grabbing all of the text between the \"Company Conformed Name\" label and the next label."
   ]
  },
  {
   "cell_type": "code",
   "execution_count": null,
   "metadata": {},
   "outputs": [],
   "source": [
    "name = re.findall(r'COMPANY CONFORMED NAME:(.*?)CENTRAL', sec, re.S)\n",
    "print(str(name)[2:-2]) # this only prints the text portion of the string that is returned"
   ]
  },
  {
   "cell_type": "markdown",
   "metadata": {},
   "source": [
    "Fiscal Year End\n",
    "Here we use regular expressions to extract the Fiscal Year End (month, day, and year)."
   ]
  },
  {
   "cell_type": "code",
   "execution_count": null,
   "metadata": {},
   "outputs": [],
   "source": [
    "fye = re.findall(r'CONFORMED PERIOD OF REPORT:(.*?)FILED', sec, re.S)\n",
    "fye = str(fye)[3:-3] \n",
    "fye_year = fye[0:4] \n",
    "fye_month = fye[4:6] \n",
    "fye_day = fye[6:8]\n",
    "fye = str(fye_month) + '/' + str(fye_day) + '/' + str(fye_year)\n",
    "print(fye)"
   ]
  },
  {
   "cell_type": "markdown",
   "metadata": {},
   "source": [
    "Central Index Key"
   ]
  },
  {
   "cell_type": "code",
   "execution_count": null,
   "metadata": {},
   "outputs": [],
   "source": [
    "year_end = re.findall(r'CENTRAL INDEX KEY:(.*?)STANDARD', sec, re.S)\n",
    "print(str(year_end)[2:-2])"
   ]
  },
  {
   "cell_type": "markdown",
   "metadata": {},
   "source": [
    "Public Float Text String\n",
    "Here we extract the Public Float text string.  Please note that the regular expressions reflect patterns within the text.  Something like '\\s{1,2}' means that there could we one blank space or two between two words."
   ]
  },
  {
   "cell_type": "code",
   "execution_count": null,
   "metadata": {},
   "outputs": [],
   "source": [
    "regex_pfloat = re.compile('(.{0,10})held\\s{0,2}by\\s{0,2}non(.*?)affiliates(.*?)[.]\\s{1,2}', re.I | re.S)\n",
    "pfloat = regex_pfloat.search(sec_long)\n",
    "pfloat = pfloat.group()\n",
    "pfloat = pfloat.replace('  ', ' ') # replaces two blank spaces with one blank space\n",
    "print(pfloat)"
   ]
  },
  {
   "cell_type": "markdown",
   "metadata": {},
   "source": [
    "Public Float Dollar Amount"
   ]
  },
  {
   "cell_type": "code",
   "execution_count": null,
   "metadata": {},
   "outputs": [],
   "source": [
    "regex_pfloatamt = re.compile('\\$[\\s]?([\\d\\.\\,]+)[\\s]*(thousand|million|billion|trillion)?', re.S)\n",
    "pfloatamt = regex_pfloatamt.search(pfloat)\n",
    "pfloatamt = pfloatamt.group()\n",
    "pfloatamt = str(pfloatamt)\n",
    "print(pfloatamt)"
   ]
  },
  {
   "cell_type": "markdown",
   "metadata": {},
   "source": [
    "Public Float Date"
   ]
  },
  {
   "cell_type": "code",
   "execution_count": null,
   "metadata": {},
   "outputs": [],
   "source": [
    "pfloat_dates = list(datefinder.find_dates(str(pfloat)))\n",
    "tempdateList = []\n",
    "for p_date in pfloat_dates:\n",
    "    pfloat_full = p_date.strftime('%m/%d/%Y')\n",
    "    pfloat_year = p_date.strftime('%Y')\n",
    "    if int(pfloat_year)==2017 or int(pfloat_year)==2018:\n",
    "        tempdateList.append(pfloat_full)\n",
    "    else:\n",
    "        pass\n",
    "pfloat_dates = str(tempdateList)\n",
    "print(pfloat_dates)"
   ]
  },
  {
   "cell_type": "markdown",
   "metadata": {},
   "source": [
    "Find the filing type table."
   ]
  },
  {
   "cell_type": "code",
   "execution_count": null,
   "metadata": {},
   "outputs": [],
   "source": [
    "regex_filers = re.compile('rule\\s{0,2}12b-2\\s{0,2}of\\s{0,2}the\\s{0,2}exchange\\s{0,2}act(.*?)if\\s{0,2}an\\s{0,2}emerging\\s{0,2}growth\\s{0,2}company\\s{0,2}', re.S | re.I)\n",
    "filers = regex_filers.search(sec_long)\n",
    "filers = filers.group()\n",
    "filers = filers.replace('  ', ' ')\n",
    "print(filers)"
   ]
  },
  {
   "cell_type": "markdown",
   "metadata": {},
   "source": [
    "Large Accelerated Filer"
   ]
  },
  {
   "cell_type": "code",
   "execution_count": null,
   "metadata": {},
   "outputs": [],
   "source": [
    "largefiler = re.findall(r'large\\s{0,2}accelerated\\s{0,2}filer(.*?)\\s{1,2}[a-z]{2}', filers, re.S | re.I)\n",
    "largefiler = str(largefiler)[2:-2]\n",
    "print(largefiler)"
   ]
  },
  {
   "cell_type": "code",
   "execution_count": null,
   "metadata": {},
   "outputs": [],
   "source": []
  }
 ],
 "metadata": {
  "celltoolbar": "Slideshow",
  "kernelspec": {
   "display_name": "Python 3",
   "language": "python",
   "name": "python3"
  },
  "language_info": {
   "codemirror_mode": {
    "name": "ipython",
    "version": 3
   },
   "file_extension": ".py",
   "mimetype": "text/x-python",
   "name": "python",
   "nbconvert_exporter": "python",
   "pygments_lexer": "ipython3",
   "version": "3.9.1"
  },
  "varInspector": {
   "cols": {
    "lenName": 16,
    "lenType": 16,
    "lenVar": 40
   },
   "kernels_config": {
    "python": {
     "delete_cmd_postfix": "",
     "delete_cmd_prefix": "del ",
     "library": "var_list.py",
     "varRefreshCmd": "print(var_dic_list())"
    },
    "r": {
     "delete_cmd_postfix": ") ",
     "delete_cmd_prefix": "rm(",
     "library": "var_list.r",
     "varRefreshCmd": "cat(var_dic_list()) "
    }
   },
   "types_to_exclude": [
    "module",
    "function",
    "builtin_function_or_method",
    "instance",
    "_Feature"
   ],
   "window_display": false
  }
 },
 "nbformat": 4,
 "nbformat_minor": 4
}
