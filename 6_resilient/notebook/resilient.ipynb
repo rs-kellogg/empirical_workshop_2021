{
 "cells": [
  {
   "cell_type": "markdown",
   "metadata": {
    "slideshow": {
     "slide_type": "slide"
    }
   },
   "source": [
    "# <span style=\"color:purple\">Writing Resilient Code</span>\n",
    "\n",
    "## Data Skills for Empirical Research\n",
    "\n",
    "### Winter, 2021"
   ]
  },
  {
   "cell_type": "markdown",
   "metadata": {
    "slideshow": {
     "slide_type": "slide"
    }
   },
   "source": [
    "## <span style=\"color:purple\">What can go wrong with your code? </span>\n",
    "\n",
    "<br>\n",
    "<br>\n",
    "\n",
    "<center><img src=\"../figures/wrong.png\" width=\"70%\" style='border:5px solid #000000'/></center>\n",
    "<center> https://www.xkcd.com </center>"
   ]
  },
  {
   "cell_type": "markdown",
   "metadata": {
    "slideshow": {
     "slide_type": "slide"
    }
   },
   "source": [
    "## <span style=\"color:purple\">What can go wrong with your code? </span>\n",
    "<br>\n",
    "* Bugs (code crashes, brittle to unexpected inputs)\n",
    "<br>\n",
    "<br>\n",
    "* Code \"works\", but gives incorrect results\n",
    "<br>\n",
    "<br>\n",
    "* Cannot reliably and automatically generate the same results each time\n",
    "<br>\n",
    "<br>\n",
    "* External resources, like code dependencies and data change outside your control\n",
    "<br>\n",
    "<br>\n",
    "* Code is slow and/or uses a lot of memory\n",
    "<br>\n",
    "<br>\n",
    "* Code is hard to understand\n",
    "<br>\n",
    "<br>\n",
    "* Code is hard to change"
   ]
  },
  {
   "cell_type": "markdown",
   "metadata": {
    "slideshow": {
     "slide_type": "slide"
    }
   },
   "source": [
    "## <span style=\"color:purple\">Ways to make your code resilient </span>\n",
    "\n",
    "<center><img src=\"../figures/resilience.jpg\" width=\"25%\"/></center>\n",
    "\n",
    "<br>"
   ]
  },
  {
   "cell_type": "markdown",
   "metadata": {
    "slideshow": {
     "slide_type": "fragment"
    }
   },
   "source": [
    " * Protect Against System Crashes (save intermediate output, elegant restarts)"
   ]
  },
  {
   "cell_type": "markdown",
   "metadata": {
    "slideshow": {
     "slide_type": "fragment"
    }
   },
   "source": [
    "* Creating and Reproducing Environments (conda, docker, singularity)"
   ]
  },
  {
   "cell_type": "markdown",
   "metadata": {
    "slideshow": {
     "slide_type": "fragment"
    }
   },
   "source": [
    "* Error Handling"
   ]
  },
  {
   "cell_type": "markdown",
   "metadata": {
    "slideshow": {
     "slide_type": "fragment"
    }
   },
   "source": [
    "* Unit Testing"
   ]
  },
  {
   "cell_type": "markdown",
   "metadata": {
    "slideshow": {
     "slide_type": "fragment"
    }
   },
   "source": [
    "* Version Control with Github"
   ]
  },
  {
   "cell_type": "markdown",
   "metadata": {
    "slideshow": {
     "slide_type": "slide"
    }
   },
   "source": [
    "## <span style=\"color:purple\">Oh No! A KLC Node Crashed. </span>\n",
    "<br>\n",
    "Any suggestions for how to make your code resilient to a node crash?"
   ]
  },
  {
   "cell_type": "markdown",
   "metadata": {
    "slideshow": {
     "slide_type": "slide"
    }
   },
   "source": [
    "## <span style=\"color:purple\">Save Intermediate Output </span>\n",
    "<br>"
   ]
  },
  {
   "cell_type": "markdown",
   "metadata": {
    "slideshow": {
     "slide_type": "fragment"
    }
   },
   "source": [
    "* Print statements or logs to a file to tell you where you left off."
   ]
  },
  {
   "cell_type": "markdown",
   "metadata": {
    "slideshow": {
     "slide_type": "fragment"
    }
   },
   "source": [
    "* Save html output one at a time."
   ]
  },
  {
   "cell_type": "markdown",
   "metadata": {
    "slideshow": {
     "slide_type": "fragment"
    }
   },
   "source": [
    "* Save output to csv file or database as it is collected."
   ]
  },
  {
   "cell_type": "markdown",
   "metadata": {
    "slideshow": {
     "slide_type": "slide"
    }
   },
   "source": [
    "## <span style=\"color:purple\">Save Intermediate Output </span>\n",
    "sleeper.py (from Week 1)"
   ]
  },
  {
   "cell_type": "code",
   "execution_count": null,
   "metadata": {
    "slideshow": {
     "slide_type": "fragment"
    }
   },
   "outputs": [],
   "source": [
    "#######################################\n",
    "# Download Yahoo Finance Summary Pages\n",
    "#######################################\n",
    "\n",
    "# libraries used\n",
    "import time\n",
    "import requests\n",
    "\n",
    "# Input file\n",
    "tickerList = [\"AMZN\", \"AAPL\", \"FB\"]\n",
    "\n",
    "# Open page and save html\n",
    "for tick in tickerList:\n",
    "    tick = tick.strip()\n",
    "    page = 'https://finance.yahoo.com/quote/' + str(tick)\n",
    "    path = str(tick) + '.html'\n",
    "    time.sleep(3)\n",
    "    page = requests.get(page)\n",
    "    with open(path, \"wb\") as f:\n",
    "        f.write(page.content)\n",
    "    print(\"At \" + time.strftime(\"%X\") + \", we successfully saved \" + str(path) + \".\")            "
   ]
  },
  {
   "cell_type": "markdown",
   "metadata": {
    "slideshow": {
     "slide_type": "slide"
    }
   },
   "source": [
    "## <span style=\"color:purple\">Elegant Restarts to Python Code </span>"
   ]
  },
  {
   "cell_type": "code",
   "execution_count": null,
   "metadata": {
    "slideshow": {
     "slide_type": "fragment"
    }
   },
   "outputs": [],
   "source": [
    "# forever shell script\n",
    "#!/usr/bin/python\n",
    "from subprocess import Popen\n",
    "import sys\n",
    "\n",
    "filename = sys.argv[1]\n",
    "while True:\n",
    "    print(\"\\nStarting \" + filename)\n",
    "    p = Popen(\"python \" + filename, shell=True)\n",
    "    p.wait()"
   ]
  },
  {
   "cell_type": "markdown",
   "metadata": {
    "slideshow": {
     "slide_type": "slide"
    }
   },
   "source": [
    "## <span style=\"color:purple\">Create and Launch Shell Script</span>"
   ]
  },
  {
   "cell_type": "markdown",
   "metadata": {
    "slideshow": {
     "slide_type": "fragment"
    }
   },
   "source": [
    "```bash\n",
    "$ nano forever\n",
    "\n",
    "< Enter file contents >\n",
    "< Control+x to save file >\n",
    "\n",
    "$ chmod +x forever\n",
    "\n",
    "$ ./forever <example_file>.py\n",
    "```"
   ]
  },
  {
   "cell_type": "markdown",
   "metadata": {
    "slideshow": {
     "slide_type": "slide"
    }
   },
   "source": [
    "## <span style=\"color:purple\">Creating and Reproducing Environments</span>\n",
    "\n",
    "<br>\n",
    "Conda environments are easy and cheap to create and delete."
   ]
  },
  {
   "cell_type": "code",
   "execution_count": 4,
   "metadata": {
    "slideshow": {
     "slide_type": "fragment"
    }
   },
   "outputs": [
    {
     "name": "stdout",
     "output_type": "stream",
     "text": [
      "# conda environments:\n",
      "#\n",
      "base                     /Users/willthompson/anaconda3\n",
      "airflow                  /Users/willthompson/anaconda3/envs/airflow\n",
      "cafrs                    /Users/willthompson/anaconda3/envs/cafrs\n",
      "dataproc                 /Users/willthompson/anaconda3/envs/dataproc\n",
      "edgar-env                /Users/willthompson/anaconda3/envs/edgar-env\n",
      "gcp                      /Users/willthompson/anaconda3/envs/gcp\n",
      "interview-env            /Users/willthompson/anaconda3/envs/interview-env\n",
      "mlearn                   /Users/willthompson/anaconda3/envs/mlearn\n",
      "nlp-env                  /Users/willthompson/anaconda3/envs/nlp-env\n",
      "ocr-review               /Users/willthompson/anaconda3/envs/ocr-review\n",
      "patent                   /Users/willthompson/anaconda3/envs/patent\n",
      "practical-nlp            /Users/willthompson/anaconda3/envs/practical-nlp\n",
      "textractor-env           /Users/willthompson/anaconda3/envs/textractor-env\n",
      "workshop-env          *  /Users/willthompson/anaconda3/envs/workshop-env\n",
      "\n"
     ]
    }
   ],
   "source": [
    "! conda env list"
   ]
  },
  {
   "cell_type": "markdown",
   "metadata": {
    "slideshow": {
     "slide_type": "slide"
    }
   },
   "source": [
    "Notice how many packages there are, so many opportunities for something to change and potentially break your code! If you're using a package, try to find ones with a sizable support community, not one-offs from an undergraduate class project."
   ]
  },
  {
   "cell_type": "code",
   "execution_count": 6,
   "metadata": {
    "slideshow": {
     "slide_type": "fragment"
    }
   },
   "outputs": [
    {
     "name": "stdout",
     "output_type": "stream",
     "text": [
      "# packages in environment at /Users/willthompson/anaconda3/envs/workshop-env:\r\n",
      "#\r\n",
      "# Name                    Version                   Build  Channel\r\n",
      "anyio                     2.1.0            py39h6e9494a_0    conda-forge\r\n",
      "appnope                   0.1.2            py39h6e9494a_1    conda-forge\r\n",
      "argon2-cffi               20.1.0           py39hcbf5805_2    conda-forge\r\n",
      "async_generator           1.10                       py_0    conda-forge\r\n",
      "attrs                     20.3.0             pyhd3deb0d_0    conda-forge\r\n",
      "babel                     2.9.0              pyhd3deb0d_0    conda-forge\r\n",
      "backcall                  0.2.0              pyh9f0ad1d_0    conda-forge\r\n",
      "backports                 1.0                        py_2    conda-forge\r\n",
      "backports.functools_lru_cache 1.6.1                      py_0    conda-forge\r\n",
      "beautifulsoup4            4.9.3              pyhb0f4dca_0    conda-forge\r\n",
      "bleach                    3.3.0              pyh44b312d_0    conda-forge\r\n",
      "blis                      0.7.4                    pypi_0    pypi\r\n",
      "brotlipy                  0.7.0           py39hcbf5805_1001    conda-forge\r\n",
      "ca-certificates           2020.12.5            h033912b_0    conda-forge\r\n",
      "cachetools                4.2.1                    pypi_0    pypi\r\n",
      "catalogue                 1.0.0                    pypi_0    pypi\r\n",
      "certifi                   2020.12.5        py39h6e9494a_1    conda-forge\r\n",
      "cffi                      1.14.5           py39h319c39b_0    conda-forge\r\n",
      "chardet                   4.0.0            py39h6e9494a_1    conda-forge\r\n",
      "cryptography              3.4.4            py39h36ea649_0    conda-forge\r\n",
      "cymem                     2.0.5                    pypi_0    pypi\r\n",
      "cytoolz                   0.11.0                   pypi_0    pypi\r\n",
      "decorator                 4.4.2                      py_0    conda-forge\r\n",
      "defusedxml                0.6.0                      py_0    conda-forge\r\n",
      "entrypoints               0.3             pyhd8ed1ab_1003    conda-forge\r\n",
      "funcy                     1.15               pyh9f0ad1d_0    conda-forge\r\n",
      "future                    0.18.2           py39h6e9494a_3    conda-forge\r\n",
      "idna                      2.10               pyh9f0ad1d_0    conda-forge\r\n",
      "importlib-metadata        3.4.0            py39h6e9494a_0    conda-forge\r\n",
      "importlib_metadata        3.4.0                hd8ed1ab_0    conda-forge\r\n",
      "ipykernel                 5.4.2            py39h71a6800_0    conda-forge\r\n",
      "ipyparallel               6.3.0            py39h6e9494a_2    conda-forge\r\n",
      "ipython                   7.20.0           py39h71a6800_2    conda-forge\r\n",
      "ipython_genutils          0.2.0                      py_1    conda-forge\r\n",
      "jedi                      0.18.0           py39h6e9494a_2    conda-forge\r\n",
      "jellyfish                 0.8.2                    pypi_0    pypi\r\n",
      "jinja2                    2.11.3             pyh44b312d_0    conda-forge\r\n",
      "joblib                    1.0.1              pyhd8ed1ab_0    conda-forge\r\n",
      "json5                     0.9.5              pyh9f0ad1d_0    conda-forge\r\n",
      "jsonschema                3.2.0                      py_2    conda-forge\r\n",
      "jupyter_client            6.1.11             pyhd8ed1ab_1    conda-forge\r\n",
      "jupyter_contrib_core      0.3.3                      py_2    conda-forge\r\n",
      "jupyter_core              4.7.1            py39h6e9494a_0    conda-forge\r\n",
      "jupyter_nbextensions_configurator 0.4.1            py39h6e9494a_2    conda-forge\r\n",
      "jupyter_server            1.3.0            py39h6e9494a_0    conda-forge\r\n",
      "jupyterlab                3.0.7              pyhd8ed1ab_0    conda-forge\r\n",
      "jupyterlab_pygments       0.1.2              pyh9f0ad1d_0    conda-forge\r\n",
      "jupyterlab_server         2.2.1              pyhd8ed1ab_0    conda-forge\r\n",
      "libblas                   3.9.0                8_openblas    conda-forge\r\n",
      "libcblas                  3.9.0                8_openblas    conda-forge\r\n",
      "libcxx                    11.0.1               habf9029_0    conda-forge\r\n",
      "libedit                   3.1.20191231         h0678c8f_2    conda-forge\r\n",
      "libffi                    3.3                  h046ec9c_2    conda-forge\r\n",
      "libgfortran               5.0.0           9_3_0_h6c81a4c_18    conda-forge\r\n",
      "libgfortran5              9.3.0               h6c81a4c_18    conda-forge\r\n",
      "libiconv                  1.16                 haf1e3a3_0    conda-forge\r\n",
      "liblapack                 3.9.0                8_openblas    conda-forge\r\n",
      "libopenblas               0.3.12          openmp_h54245bb_1    conda-forge\r\n",
      "libsodium                 1.0.18               hbcb3906_1    conda-forge\r\n",
      "llvm-openmp               11.0.1               h7c73e74_0    conda-forge\r\n",
      "markupsafe                1.1.1            py39hcbf5805_3    conda-forge\r\n",
      "mistune                   0.8.4           py39hcbf5805_1003    conda-forge\r\n",
      "murmurhash                1.0.5                    pypi_0    pypi\r\n",
      "nbclassic                 0.2.6              pyhd8ed1ab_0    conda-forge\r\n",
      "nbclient                  0.5.2              pyhd8ed1ab_0    conda-forge\r\n",
      "nbconvert                 6.0.7            py39h6e9494a_3    conda-forge\r\n",
      "nbformat                  5.0.8                      py_0    conda-forge\r\n",
      "ncurses                   6.2                  h2e338ed_4    conda-forge\r\n",
      "nest-asyncio              1.4.3              pyhd8ed1ab_0    conda-forge\r\n",
      "networkx                  2.5                      pypi_0    pypi\r\n",
      "notebook                  6.2.0            py39h6e9494a_0    conda-forge\r\n",
      "numexpr                   2.7.2            py39h089d6f7_0    conda-forge\r\n",
      "numpy                     1.20.1           py39h3c955ea_0    conda-forge\r\n",
      "openssl                   1.1.1i               h35c211d_0    conda-forge\r\n",
      "packaging                 20.9               pyh44b312d_0    conda-forge\r\n",
      "pandas                    1.2.2            py39ha3b3222_0    conda-forge\r\n",
      "pandoc                    2.11.4               h35c211d_0    conda-forge\r\n",
      "pandocfilters             1.4.2                      py_1    conda-forge\r\n",
      "parso                     0.8.1              pyhd8ed1ab_0    conda-forge\r\n",
      "pexpect                   4.8.0              pyh9f0ad1d_2    conda-forge\r\n",
      "pickleshare               0.7.5                   py_1003    conda-forge\r\n",
      "pip                       21.0.1             pyhd8ed1ab_0    conda-forge\r\n",
      "plac                      1.1.3                    pypi_0    pypi\r\n",
      "preshed                   3.0.5                    pypi_0    pypi\r\n",
      "prometheus_client         0.9.0              pyhd3deb0d_0    conda-forge\r\n",
      "prompt-toolkit            3.0.16             pyha770c72_0    conda-forge\r\n",
      "ptyprocess                0.7.0              pyhd3deb0d_0    conda-forge\r\n",
      "pycparser                 2.20               pyh9f0ad1d_2    conda-forge\r\n",
      "pyemd                     0.5.1                    pypi_0    pypi\r\n",
      "pygments                  2.8.0              pyhd8ed1ab_0    conda-forge\r\n",
      "pyldavis                  2.1.2                      py_0    conda-forge\r\n",
      "pyodbc                    4.0.30           py39h81cd7d3_1    conda-forge\r\n",
      "pyopenssl                 20.0.1             pyhd8ed1ab_0    conda-forge\r\n",
      "pyparsing                 2.4.7              pyh9f0ad1d_0    conda-forge\r\n",
      "pyphen                    0.10.0                   pypi_0    pypi\r\n",
      "pyrsistent                0.17.3           py39hcbf5805_2    conda-forge\r\n",
      "pysocks                   1.7.1            py39h6e9494a_3    conda-forge\r\n",
      "python                    3.9.1           h2502468_5_cpython    conda-forge\r\n",
      "python-dateutil           2.8.1                      py_0    conda-forge\r\n",
      "python_abi                3.9                      1_cp39    conda-forge\r\n",
      "pytz                      2021.1             pyhd8ed1ab_0    conda-forge\r\n",
      "pyyaml                    5.4.1            py39hcbf5805_0    conda-forge\r\n",
      "pyzmq                     22.0.3           py39h4c39a0a_0    conda-forge\r\n",
      "readline                  8.0                  h0678c8f_2    conda-forge\r\n",
      "regex                     2020.11.13       py39hcbf5805_1    conda-forge\r\n",
      "requests                  2.25.1             pyhd3deb0d_0    conda-forge\r\n",
      "rise                      5.7.1            py39h6e9494a_0    conda-forge\r\n",
      "rpy2                      3.4.2                    pypi_0    pypi\r\n",
      "scikit-learn              0.23.2                   pypi_0    pypi\r\n",
      "scipy                     1.6.0            py39hed629a4_0    conda-forge\r\n",
      "send2trash                1.5.0                      py_0    conda-forge\r\n",
      "setuptools                49.6.0           py39h6e9494a_3    conda-forge\r\n",
      "six                       1.15.0             pyh9f0ad1d_0    conda-forge\r\n",
      "sniffio                   1.2.0            py39h6e9494a_1    conda-forge\r\n",
      "soupsieve                 2.0.1                      py_1    conda-forge\r\n",
      "spacy                     2.3.5                    pypi_0    pypi\r\n",
      "sqlalchemy                1.3.23           py39h4b0b724_0    conda-forge\r\n",
      "sqlite                    3.34.0               h17101e1_0    conda-forge\r\n",
      "srsly                     1.0.5                    pypi_0    pypi\r\n",
      "terminado                 0.9.2            py39h6e9494a_0    conda-forge\r\n",
      "testpath                  0.4.4                      py_0    conda-forge\r\n",
      "textacy                   0.10.1                   pypi_0    pypi\r\n",
      "thinc                     7.4.5                    pypi_0    pypi\r\n",
      "threadpoolctl             2.1.0              pyh5ca1d4c_0    conda-forge\r\n",
      "tk                        8.6.10               h0419947_1    conda-forge\r\n",
      "toolz                     0.11.1                   pypi_0    pypi\r\n",
      "tornado                   6.1              py39hcbf5805_1    conda-forge\r\n",
      "tqdm                      4.56.2                   pypi_0    pypi\r\n",
      "traitlets                 5.0.5                      py_0    conda-forge\r\n",
      "tzdata                    2021a                he74cb21_0    conda-forge\r\n",
      "tzlocal                   2.1                      pypi_0    pypi\r\n",
      "unixodbc                  2.3.9                hd863c23_0    conda-forge\r\n",
      "urllib3                   1.26.3             pyhd8ed1ab_0    conda-forge\r\n",
      "wasabi                    0.8.2                    pypi_0    pypi\r\n",
      "wcwidth                   0.2.5              pyh9f0ad1d_2    conda-forge\r\n",
      "webencodings              0.5.1                      py_1    conda-forge\r\n",
      "wheel                     0.36.2             pyhd3deb0d_0    conda-forge\r\n",
      "xz                        5.2.5                haf1e3a3_1    conda-forge\r\n",
      "yaml                      0.2.5                haf1e3a3_0    conda-forge\r\n",
      "zeromq                    4.3.4                h1c7c35f_0    conda-forge\r\n",
      "zipp                      3.4.0                      py_0    conda-forge\r\n",
      "zlib                      1.2.11            h7795811_1010    conda-forge\r\n"
     ]
    }
   ],
   "source": [
    "! conda list"
   ]
  },
  {
   "cell_type": "markdown",
   "metadata": {
    "slideshow": {
     "slide_type": "fragment"
    }
   },
   "source": [
    "Tip: export your (pinned) dependencies to a file. You can use this to re-create your environment reproducibly, anwhere, and any number of times."
   ]
  },
  {
   "cell_type": "code",
   "execution_count": 7,
   "metadata": {
    "slideshow": {
     "slide_type": "slide"
    }
   },
   "outputs": [
    {
     "name": "stdout",
     "output_type": "stream",
     "text": [
      "name: workshop-env\r\n",
      "channels:\r\n",
      "  - conda-forge\r\n",
      "  - defaults\r\n",
      "dependencies:\r\n",
      "  - pyldavis\r\n",
      "  - rise\r\n",
      "  - ipyparallel\r\n",
      "  - nbformat=5.0.8\r\n",
      "  - regex\r\n",
      "  - sqlalchemy\r\n",
      "  - jupyter_nbextensions_configurator\r\n",
      "  - scikit-learn\r\n",
      "  - pyodbc\r\n",
      "  - pip\r\n",
      "  - python=3.9\r\n",
      "  - pandas\r\n",
      "  - jupyterlab=3\r\n",
      "  - beautifulsoup4\r\n",
      "prefix: /Users/willthompson/anaconda3/envs/workshop-env\r\n"
     ]
    }
   ],
   "source": [
    "! conda env export --from-history"
   ]
  },
  {
   "cell_type": "code",
   "execution_count": 8,
   "metadata": {
    "slideshow": {
     "slide_type": "fragment"
    }
   },
   "outputs": [
    {
     "name": "stdout",
     "output_type": "stream",
     "text": [
      "name: test-env\r\n",
      "channels:\r\n",
      "  - conda-forge\r\n",
      "  - defaults\r\n",
      "dependencies:\r\n",
      "  - pyldavis\r\n",
      "  - rise\r\n",
      "  - ipyparallel\r\n",
      "  - nbformat=5.0.8\r\n",
      "  - regex\r\n",
      "  - sqlalchemy\r\n",
      "  - jupyter_nbextensions_configurator\r\n",
      "  - scikit-learn\r\n",
      "  - pyodbc\r\n",
      "  - pip\r\n",
      "  - python=3.9\r\n",
      "  - pandas\r\n",
      "  - jupyterlab=3\r\n",
      "  - beautifulsoup4\r\n"
     ]
    }
   ],
   "source": [
    "! conda env export --from-history | grep -v \"^prefix: \" > environment.yml\n",
    "! sed -i '' 's/workshop-env/test-env/g' environment.yml\n",
    "! cat environment.yml"
   ]
  },
  {
   "cell_type": "code",
   "execution_count": 9,
   "metadata": {
    "slideshow": {
     "slide_type": "fragment"
    }
   },
   "outputs": [
    {
     "name": "stdout",
     "output_type": "stream",
     "text": [
      "Collecting package metadata (repodata.json): | ^C\n",
      "\\ "
     ]
    }
   ],
   "source": [
    "! conda env create -f environment.yml"
   ]
  },
  {
   "cell_type": "code",
   "execution_count": null,
   "metadata": {
    "slideshow": {
     "slide_type": "fragment"
    }
   },
   "outputs": [],
   "source": [
    "! conda env list"
   ]
  },
  {
   "cell_type": "code",
   "execution_count": null,
   "metadata": {
    "slideshow": {
     "slide_type": "fragment"
    }
   },
   "outputs": [],
   "source": [
    "! conda env remove -n test-env"
   ]
  },
  {
   "cell_type": "markdown",
   "metadata": {
    "slideshow": {
     "slide_type": "slide"
    }
   },
   "source": [
    "## <span style=\"color:purple\">Configuring with Containers</span>\n",
    "\n",
    "<br>\n",
    "<center><img src=\"../figures/reproducibility.png\" width=\"70%\"/></center>"
   ]
  },
  {
   "cell_type": "markdown",
   "metadata": {
    "slideshow": {
     "slide_type": "subslide"
    }
   },
   "source": [
    "<center><img src=\"../figures/docker.png\" width=\"60%\"/></center>\n",
    "<br>\n",
    "<center> https:docker.com </center>"
   ]
  },
  {
   "cell_type": "markdown",
   "metadata": {
    "slideshow": {
     "slide_type": "slide"
    }
   },
   "source": [
    "## <span style=\"color:purple\">Error/Exception Handling</span>\n",
    "Error handling increases the robustness of your code guarding against uncontrolled exits\n",
    "<br>\n",
    "<br>\n",
    "How do you implement error handling in your code? Any examples? \n"
   ]
  },
  {
   "cell_type": "markdown",
   "metadata": {
    "slideshow": {
     "slide_type": "slide"
    }
   },
   "source": [
    "## <span style=\"color:purple\">Error Handling in Python </span>\n",
    "\n",
    "<center><img src=\"../figures/py_error.png\" width=\"85%\"/></center>\n",
    "\n",
    "<br>"
   ]
  },
  {
   "cell_type": "markdown",
   "metadata": {
    "slideshow": {
     "slide_type": "slide"
    }
   },
   "source": [
    "## <span style=\"color:purple\">Python Error Handling Example 1</span>"
   ]
  },
  {
   "cell_type": "code",
   "execution_count": null,
   "metadata": {
    "slideshow": {
     "slide_type": "fragment"
    }
   },
   "outputs": [],
   "source": [
    "def python_fun(num):\n",
    "    try:\n",
    "        print(\"trying to divide by 0\")\n",
    "        num/0\n",
    "        print(\"Infinity and beyond!\")\n",
    "    except ZeroDivisionError:\n",
    "        print(\"Can't do that.\")\n",
    "    finally:\n",
    "        print(\"Time to clean up this mess\")\n",
    "        \n",
    "python_fun(0)"
   ]
  },
  {
   "cell_type": "markdown",
   "metadata": {
    "slideshow": {
     "slide_type": "slide"
    }
   },
   "source": [
    "## <span style=\"color:purple\">Python Error Handling Example 2</span>"
   ]
  },
  {
   "cell_type": "code",
   "execution_count": null,
   "metadata": {
    "slideshow": {
     "slide_type": "fragment"
    }
   },
   "outputs": [],
   "source": [
    "# from yahoo_main.py file\n",
    "import os\n",
    "\n",
    "coList = [\"AAPL\", \"AMZN\",\"MSFT\"]\n",
    "for co in coList:\n",
    "\n",
    "    # create directories for each ticker\n",
    "    #dir_path = os.path.dirname(os.path.realpath(__file__))\n",
    "    #dir_path = str(dir_path) + \"/\" + str(co)\n",
    "    dir_path = \"company/\" + str(co)\n",
    "    print(dir_path)\n",
    "\n",
    "    try:\n",
    "        os.mkdir(dir_path)\n",
    "    except OSError:\n",
    "        print (\"Creation of the directory failed. %s already exists\" % dir_path)\n",
    "    else:\n",
    "        print (\"Successfully created the directory %s \" % dir_path)"
   ]
  },
  {
   "cell_type": "markdown",
   "metadata": {
    "slideshow": {
     "slide_type": "slide"
    }
   },
   "source": [
    "## <span style=\"color:purple\">Error Handling in R </span>\n",
    "\n",
    "<center><img src=\"../figures/r_error.png\" width=\"85%\"/></center>\n",
    "\n",
    "<br>"
   ]
  },
  {
   "cell_type": "markdown",
   "metadata": {
    "slideshow": {
     "slide_type": "slide"
    }
   },
   "source": [
    "## <span style=\"color:purple\">Error Handling in R</span>\n",
    "\n"
   ]
  },
  {
   "cell_type": "code",
   "execution_count": null,
   "metadata": {
    "slideshow": {
     "slide_type": "fragment"
    }
   },
   "outputs": [],
   "source": [
    "import rpy2"
   ]
  },
  {
   "cell_type": "code",
   "execution_count": null,
   "metadata": {
    "slideshow": {
     "slide_type": "fragment"
    }
   },
   "outputs": [],
   "source": [
    "%load_ext rpy2.ipython"
   ]
  },
  {
   "cell_type": "code",
   "execution_count": null,
   "metadata": {
    "slideshow": {
     "slide_type": "fragment"
    }
   },
   "outputs": [],
   "source": [
    "%%R\n",
    "inputs <- list(1, 2, -5, \"oops\", 10, 0)\n",
    "for(input in inputs) {\n",
    "  print(paste(\"log of\", input, \"=\", log(input)))\n",
    "  }"
   ]
  },
  {
   "cell_type": "markdown",
   "metadata": {
    "slideshow": {
     "slide_type": "slide"
    }
   },
   "source": [
    "## <span style=\"color:purple\">Error Handling in R - Try</span>\n",
    "\n"
   ]
  },
  {
   "cell_type": "code",
   "execution_count": null,
   "metadata": {
    "slideshow": {
     "slide_type": "fragment"
    }
   },
   "outputs": [],
   "source": [
    "%%R\n",
    "for(input in inputs) {\n",
    "  try(print(paste(\"log of\", input, \"=\", log(input))))\n",
    "  }"
   ]
  },
  {
   "cell_type": "markdown",
   "metadata": {
    "slideshow": {
     "slide_type": "slide"
    }
   },
   "source": [
    "## <span style=\"color:purple\">Error Handling in R - Trycatch</span>\n",
    "\n"
   ]
  },
  {
   "cell_type": "code",
   "execution_count": null,
   "metadata": {
    "slideshow": {
     "slide_type": "fragment"
    }
   },
   "outputs": [],
   "source": [
    "%%R\n",
    "log_calculator <- function(x){\n",
    "  tryCatch(\n",
    "    # [Required] R code(s) to be evaluated\n",
    "    expr = {\n",
    "      message(log(x))\n",
    "      message(\"Successfully executed log(x).\")\n",
    "    },\n",
    "    # [Optional] what should run if error occured while evaluating expr\n",
    "    error = function(e){\n",
    "      message('Caught an error!')\n",
    "      print(e)\n",
    "    },\n",
    "    # [Optional] what should run if warning occured while evaluating expr\n",
    "    warning = function(w){\n",
    "      message('Caught a warning!')\n",
    "      print(w)\n",
    "    },\n",
    "    # [Optional] what should run before quitting Trycath call, regardless of what happens\n",
    "    finally = {\n",
    "      message('All done, quitting.')\n",
    "    }\n",
    "  )    \n",
    "}"
   ]
  },
  {
   "cell_type": "code",
   "execution_count": null,
   "metadata": {
    "slideshow": {
     "slide_type": "slide"
    }
   },
   "outputs": [],
   "source": [
    "%%R\n",
    "log_calculator(10)"
   ]
  },
  {
   "cell_type": "code",
   "execution_count": null,
   "metadata": {
    "slideshow": {
     "slide_type": "fragment"
    }
   },
   "outputs": [],
   "source": [
    "%%R\n",
    "log_calculator(-10)"
   ]
  },
  {
   "cell_type": "code",
   "execution_count": null,
   "metadata": {
    "slideshow": {
     "slide_type": "fragment"
    }
   },
   "outputs": [],
   "source": [
    "%%R\n",
    "log_calculator(\"a\")"
   ]
  },
  {
   "cell_type": "markdown",
   "metadata": {
    "slideshow": {
     "slide_type": "slide"
    }
   },
   "source": [
    "## <span style=\"color:purple\">Unit Testing</span>\n",
    "<br>\n",
    "<br>\n",
    "Testing writes code (separate from application code) that invokes the code it tests to determine if there are any errors.  \n",
    "<br>\n",
    "<br>\n",
    "It does not prove code is correct, but rather reports if the conditions provided in the tester are handled correctly\n",
    "<br>\n",
    "<br>\n",
    "Unit tests specifically test a single “unit” of the code in isolation.  For instance, testing a single class, function, module etc. \n",
    "\n"
   ]
  },
  {
   "cell_type": "markdown",
   "metadata": {
    "slideshow": {
     "slide_type": "slide"
    }
   },
   "source": [
    "## <span style=\"color:purple\">Unit Tests in Python</span>"
   ]
  },
  {
   "cell_type": "code",
   "execution_count": null,
   "metadata": {
    "slideshow": {
     "slide_type": "fragment"
    }
   },
   "outputs": [],
   "source": [
    "def test_extract_doclevel_form3_collection(test_form3_collection):\n",
    "    \"\"\"\n",
    "    Validate Form3 extraction code against a random sample of documents\n",
    "    :param test_form3_collection:\n",
    "    :return:\n",
    "    \"\"\"\n",
    "    for file in test_form3_collection.glob(\"*.txt\"):\n",
    "        doc = Form3(file)\n",
    "        assert doc.filename == file.name\n",
    "        fields = doc.doc_info\n",
    "        assert len(fields) == 19\n",
    "        assert fields[\"filename\"] == file.name\n",
    "        assert fields[\"schema_version\"] == \"X0206\"\n",
    "        assert fields[\"document_type\"] == \"3\"\n"
   ]
  },
  {
   "cell_type": "markdown",
   "metadata": {
    "slideshow": {
     "slide_type": "slide"
    }
   },
   "source": [
    "## <span style=\"color:purple\">Unit Tests in R</span>\n",
    "Create a file named increment.R"
   ]
  },
  {
   "cell_type": "code",
   "execution_count": null,
   "metadata": {
    "slideshow": {
     "slide_type": "fragment"
    }
   },
   "outputs": [],
   "source": [
    "%%R\n",
    "increment <- function(value) {\n",
    "  value + 1\n",
    "}"
   ]
  },
  {
   "cell_type": "code",
   "execution_count": null,
   "metadata": {
    "slideshow": {
     "slide_type": "fragment"
    }
   },
   "outputs": [],
   "source": [
    "%%R\n",
    "#install.packages(\"testhat\", repos='http://cran.us.r-project.org', quiet=TRUE)\n",
    "library(testthat)"
   ]
  },
  {
   "cell_type": "code",
   "execution_count": null,
   "metadata": {
    "slideshow": {
     "slide_type": "fragment"
    }
   },
   "outputs": [],
   "source": [
    "%%R\n",
    "source(\"../examples/increment.R\", chdir = TRUE)"
   ]
  },
  {
   "cell_type": "code",
   "execution_count": null,
   "metadata": {
    "slideshow": {
     "slide_type": "slide"
    }
   },
   "outputs": [],
   "source": [
    "%%R\n",
    "test_that(\"single number\", {\n",
    "  expect_equal(increment(-1), 0)\n",
    "  expect_equal(increment(0), 1)\n",
    "})\n",
    "\n",
    "test_that(\"vectors\", {\n",
    "  expect_equal(increment(c(0,1)), c(1,2))\n",
    "})\n",
    "\n",
    "test_that(\"empty vector\", {\n",
    "  expect_equal(increment(c()), c())\n",
    "})\n",
    "\n",
    "test_that(\"test NA\", {\n",
    "  expect_true(is.na(increment(NA)))\n",
    "})\n"
   ]
  },
  {
   "cell_type": "markdown",
   "metadata": {
    "slideshow": {
     "slide_type": "fragment"
    }
   },
   "source": [
    "Inside Rstudio\n",
    "<br>\n",
    "test_file(\"../examples/unit_testing.R\")"
   ]
  },
  {
   "cell_type": "markdown",
   "metadata": {
    "slideshow": {
     "slide_type": "slide"
    }
   },
   "source": [
    "## <span style=\"color:purple\">Version Control using Git and Github</span>\n",
    "\n",
    "<center><img src=\"../figures/git-workflow.png\" width=\"60%\"/></center>"
   ]
  },
  {
   "cell_type": "markdown",
   "metadata": {
    "slideshow": {
     "slide_type": "slide"
    }
   },
   "source": [
    "## <span style=\"color:purple\">Version Control using Git and Github</span>\n",
    "\n",
    "<center><img src=\"../figures/git-klc.png\" width=\"70%\"/></center>"
   ]
  }
 ],
 "metadata": {
  "celltoolbar": "Slideshow",
  "kernelspec": {
   "display_name": "Python 3",
   "language": "python",
   "name": "python3"
  },
  "language_info": {
   "codemirror_mode": {
    "name": "ipython",
    "version": 3
   },
   "file_extension": ".py",
   "mimetype": "text/x-python",
   "name": "python",
   "nbconvert_exporter": "python",
   "pygments_lexer": "ipython3",
   "version": "3.9.1"
  },
  "nteract": {
   "version": "0.28.0"
  }
 },
 "nbformat": 4,
 "nbformat_minor": 4
}
