{
 "cells": [
  {
   "cell_type": "code",
   "execution_count": 1,
   "metadata": {},
   "outputs": [],
   "source": [
    "import timeit\n",
    "import random\n",
    "import numpy as np\n",
    "\n",
    "random.seed(42)\n",
    "\n",
    "%reload_ext heat\n",
    "%reload_ext line_profiler\n",
    "%reload_ext memory_profiler"
   ]
  },
  {
   "cell_type": "markdown",
   "metadata": {
    "slideshow": {
     "slide_type": "slide"
    }
   },
   "source": [
    "# <span style=\"color:purple\">Accelerating Your Code</span>\n",
    "\n",
    "## Empirical Skills Workshop\n",
    "\n",
    "### Winter, 2021"
   ]
  },
  {
   "cell_type": "markdown",
   "metadata": {
    "slideshow": {
     "slide_type": "slide"
    }
   },
   "source": [
    "# <span style=\"color:purple\">Dealing with Slow Code</span>\n",
    "\n",
    "<br>\n",
    "<br>\n",
    "\n",
    "<center><img src=\"../figures/xkcd.png\" width=\"70%\" style='border:5px solid #000000'/></center>\n",
    "<center> https://xkcd.com/1718/ </center>"
   ]
  },
  {
   "cell_type": "markdown",
   "metadata": {
    "slideshow": {
     "slide_type": "slide"
    }
   },
   "source": [
    "# <span style=\"color:purple\">Reasons why Code Runs Slowly</span>\n",
    "\n",
    "<br>"
   ]
  },
  {
   "cell_type": "markdown",
   "metadata": {
    "slideshow": {
     "slide_type": "fragment"
    }
   },
   "source": [
    "* Using inefficent algorithms (i.e., doing unnecessary work)"
   ]
  },
  {
   "cell_type": "markdown",
   "metadata": {
    "slideshow": {
     "slide_type": "fragment"
    }
   },
   "source": [
    "* Writing your own code instead of using optimized pre-existing libraries"
   ]
  },
  {
   "cell_type": "markdown",
   "metadata": {
    "slideshow": {
     "slide_type": "fragment"
    }
   },
   "source": [
    "* Intensive computation (CPU-bound)"
   ]
  },
  {
   "cell_type": "markdown",
   "metadata": {
    "slideshow": {
     "slide_type": "fragment"
    }
   },
   "source": [
    "* Dealing with big data (Data-bound)"
   ]
  },
  {
   "cell_type": "markdown",
   "metadata": {
    "slideshow": {
     "slide_type": "fragment"
    }
   },
   "source": [
    "* Network delays (IO-bound)"
   ]
  },
  {
   "cell_type": "markdown",
   "metadata": {
    "slideshow": {
     "slide_type": "slide"
    }
   },
   "source": [
    "# <span style=\"color:purple\">Optimizing Code</span>\n",
    "<center><img src=\"../figures/knuth.jpg\" width=\"25%\" style='border:5px solid #000000'/></center>\n",
    "\n",
    "\n",
    "<span style=\"color:darkblue\">Programmers waste enormous amounts of time thinking about, or worrying about, the speed of noncritical parts of their programs, and these attempts at efficiency actually have a strong negative impact when debugging and maintenance are considered. We should forget about small efficiencies, say about 97% of the time: premature optimization is the root of all evil. Yet we should not pass up our opportunities in that critical 3%. (Donald Knuth)</span>"
   ]
  },
  {
   "cell_type": "markdown",
   "metadata": {
    "slideshow": {
     "slide_type": "slide"
    }
   },
   "source": [
    "# <span style=\"color:purple\">Profiling Code</span>\n",
    "\n",
    "<table>\n",
    "<td> <center><img src=\"../figures/handbook.png\" width=\"60%\" style='border:5px solid #000000'></center> </td>\n",
    "<td> <center><img src=\"../figures/high-performance-python.png\" width=\"50%\" style='border:5px solid #000000'></center> </td>\n",
    "</table>"
   ]
  },
  {
   "cell_type": "markdown",
   "metadata": {
    "slideshow": {
     "slide_type": "subslide"
    }
   },
   "source": [
    "* %time: Time the execution of a single statement\n",
    "* %timeit: Time repeated execution of a single statement for more accuracy\n",
    "* %prun: Run code with the profiler\n",
    "* %lprun: Run code with the line-by-line profiler\n",
    "* %memit: Measure the memory use of a single statement\n",
    "* %mprun: Run code with the line-by-line memory profiler"
   ]
  },
  {
   "cell_type": "markdown",
   "metadata": {
    "slideshow": {
     "slide_type": "slide"
    }
   },
   "source": [
    "# <span style=\"color:purple\">Timing Code Execution</span>\n"
   ]
  },
  {
   "cell_type": "code",
   "execution_count": 22,
   "metadata": {
    "slideshow": {
     "slide_type": "fragment"
    }
   },
   "outputs": [
    {
     "name": "stdout",
     "output_type": "stream",
     "text": [
      "200000\n"
     ]
    },
    {
     "data": {
      "text/plain": [
       "array([0.67158753, 0.18133838, 0.17378386, ..., 0.28123612, 0.65182935,\n",
       "       0.79996841])"
      ]
     },
     "execution_count": 22,
     "metadata": {},
     "output_type": "execute_result"
    }
   ],
   "source": [
    "array = np.random.rand(200_000)\n",
    "print(len(array))\n",
    "array "
   ]
  },
  {
   "cell_type": "code",
   "execution_count": 23,
   "metadata": {
    "slideshow": {
     "slide_type": "fragment"
    }
   },
   "outputs": [
    {
     "name": "stdout",
     "output_type": "stream",
     "text": [
      "99847.29265497533\n"
     ]
    }
   ],
   "source": [
    "def sum_array(array):\n",
    "    total = 0\n",
    "    for i in range(len(array)):\n",
    "        total += array[i]\n",
    "    return total\n",
    "\n",
    "print(sum_array(array))"
   ]
  },
  {
   "cell_type": "code",
   "execution_count": 24,
   "metadata": {
    "slideshow": {
     "slide_type": "fragment"
    }
   },
   "outputs": [
    {
     "name": "stdout",
     "output_type": "stream",
     "text": [
      "62.8 ms ± 920 µs per loop (mean ± std. dev. of 7 runs, 10 loops each)\n"
     ]
    }
   ],
   "source": [
    "%timeit sum_array(array)"
   ]
  },
  {
   "cell_type": "code",
   "execution_count": 25,
   "metadata": {
    "slideshow": {
     "slide_type": "fragment"
    }
   },
   "outputs": [
    {
     "name": "stdout",
     "output_type": "stream",
     "text": [
      "31.3 ms ± 1.49 ms per loop (mean ± std. dev. of 7 runs, 10 loops each)\n"
     ]
    }
   ],
   "source": [
    "%timeit sum(array)"
   ]
  },
  {
   "cell_type": "code",
   "execution_count": 26,
   "metadata": {
    "slideshow": {
     "slide_type": "fragment"
    }
   },
   "outputs": [
    {
     "name": "stdout",
     "output_type": "stream",
     "text": [
      "136 µs ± 5.27 µs per loop (mean ± std. dev. of 7 runs, 10000 loops each)\n"
     ]
    }
   ],
   "source": [
    "%timeit total = np.sum(array)"
   ]
  },
  {
   "cell_type": "markdown",
   "metadata": {
    "slideshow": {
     "slide_type": "subslide"
    }
   },
   "source": [
    "<center><img src=\"../figures/time-units.png\" width=\"100%\" style='border:5px solid #000000'/></center>"
   ]
  },
  {
   "cell_type": "markdown",
   "metadata": {
    "slideshow": {
     "slide_type": "slide"
    }
   },
   "source": [
    "# <span style=\"color:purple\">Profiling Full Scripts</span>\n"
   ]
  },
  {
   "cell_type": "code",
   "execution_count": 27,
   "metadata": {
    "slideshow": {
     "slide_type": "fragment"
    }
   },
   "outputs": [
    {
     "data": {
      "text/plain": [
       "3.143508"
      ]
     },
     "execution_count": 27,
     "metadata": {},
     "output_type": "execute_result"
    }
   ],
   "source": [
    "#%%heat\n",
    "\n",
    "import random\n",
    "\n",
    "# Example from: https://towardsdatascience.com/speed-up-jupyter-notebooks-20716cbe2025\n",
    "def estimate_pi(n=1e6) -> \"area\":\n",
    "    \"\"\"Estimate pi with monte carlo simulation.\n",
    "    \n",
    "    Arguments:\n",
    "        n: number of simulations\n",
    "    \"\"\"\n",
    "    in_circle = 0\n",
    "    total = n\n",
    "    \n",
    "    while n != 0:\n",
    "        prec_x = random.random()\n",
    "        prec_y = random.random()\n",
    "        if pow(prec_x, 2) + pow(prec_y, 2) <= 1:\n",
    "            in_circle += 1 # inside the circle\n",
    "        n -= 1\n",
    "         \n",
    "    return 4 * in_circle / total\n",
    "\n",
    "estimate_pi()"
   ]
  },
  {
   "cell_type": "code",
   "execution_count": 28,
   "metadata": {
    "slideshow": {
     "slide_type": "fragment"
    }
   },
   "outputs": [
    {
     "name": "stdout",
     "output_type": "stream",
     "text": [
      "CPU times: user 996 ms, sys: 86.8 ms, total: 1.08 s\n",
      "Wall time: 1.14 s\n"
     ]
    },
    {
     "data": {
      "text/plain": [
       "3.138756"
      ]
     },
     "execution_count": 28,
     "metadata": {},
     "output_type": "execute_result"
    }
   ],
   "source": [
    "%time estimate_pi(n=1e6)"
   ]
  },
  {
   "cell_type": "code",
   "execution_count": 29,
   "metadata": {
    "slideshow": {
     "slide_type": "fragment"
    }
   },
   "outputs": [
    {
     "name": "stdout",
     "output_type": "stream",
     "text": [
      " "
     ]
    }
   ],
   "source": [
    "%prun estimate_pi(n=1e6)\n",
    "# output:\n",
    "# the number of calls (ncalls)\n",
    "# the total time (tottime) spent on it excluding calls to subfunctions\n",
    "# how long each call took (percall, excluding and including)\n",
    "# the total time (cumtime) including all calls to subfunctions"
   ]
  },
  {
   "cell_type": "code",
   "execution_count": 16,
   "metadata": {
    "slideshow": {
     "slide_type": "fragment"
    }
   },
   "outputs": [],
   "source": [
    "%lprun -f estimate_pi estimate_pi(n=1e6)"
   ]
  },
  {
   "cell_type": "markdown",
   "metadata": {
    "slideshow": {
     "slide_type": "slide"
    }
   },
   "source": [
    "# <span style=\"color:purple\">Profiling Memory Usage</span>"
   ]
  },
  {
   "cell_type": "code",
   "execution_count": 30,
   "metadata": {
    "slideshow": {
     "slide_type": "fragment"
    }
   },
   "outputs": [],
   "source": [
    "def sum_lists(n):\n",
    "    nums = []\n",
    "    for i in range(int(n)):\n",
    "        nums.extend(random.sample(range(1, 101), 100))\n",
    "    return sum(nums)"
   ]
  },
  {
   "cell_type": "code",
   "execution_count": 32,
   "metadata": {
    "slideshow": {
     "slide_type": "fragment"
    }
   },
   "outputs": [
    {
     "name": "stdout",
     "output_type": "stream",
     "text": [
      "peak memory: 243.55 MiB, increment: 7.66 MiB\n"
     ]
    }
   ],
   "source": [
    "%memit sum_lists(1e4)"
   ]
  },
  {
   "cell_type": "code",
   "execution_count": 33,
   "metadata": {
    "slideshow": {
     "slide_type": "fragment"
    }
   },
   "outputs": [],
   "source": [
    "def sum_lists2(n):\n",
    "    total = 0\n",
    "    for i in range(int(n)):\n",
    "        total += sum(random.sample(range(1, 101), 100))\n",
    "    return total"
   ]
  },
  {
   "cell_type": "code",
   "execution_count": 34,
   "metadata": {
    "slideshow": {
     "slide_type": "fragment"
    }
   },
   "outputs": [
    {
     "name": "stdout",
     "output_type": "stream",
     "text": [
      "peak memory: 243.55 MiB, increment: 0.00 MiB\n"
     ]
    }
   ],
   "source": [
    "%memit sum_lists2(1e4)"
   ]
  }
 ],
 "metadata": {
  "celltoolbar": "Slideshow",
  "kernelspec": {
   "display_name": "Python 3",
   "language": "python",
   "name": "python3"
  },
  "language_info": {
   "codemirror_mode": {
    "name": "ipython",
    "version": 3
   },
   "file_extension": ".py",
   "mimetype": "text/x-python",
   "name": "python",
   "nbconvert_exporter": "python",
   "pygments_lexer": "ipython3",
   "version": "3.9.1"
  }
 },
 "nbformat": 4,
 "nbformat_minor": 4
}
