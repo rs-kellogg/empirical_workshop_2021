{
 "cells": [
  {
   "cell_type": "markdown",
   "metadata": {
    "slideshow": {
     "slide_type": "slide"
    }
   },
   "source": [
    "# <span style=\"color:purple\">Natural Language Processing</span>\n",
    "\n",
    "## Data Skills for Empirical Research\n",
    "\n",
    "### Winter, 2021"
   ]
  },
  {
   "cell_type": "markdown",
   "metadata": {
    "slideshow": {
     "slide_type": "slide"
    }
   },
   "source": [
    "<center><img src=\"../figures/library.png\" width=\"25%\" style='border:5px solid #000000'/></center>\n",
    "\n",
    "<br>\n",
    "<br>\n",
    "\n",
    "* Vast amounts of information are encoded as unstructured data, in the form of text. Fortunately, a lot of it is already stored digitally and is available for computational analysis.\n",
    "* What tools can we use to perform this analysis?"
   ]
  },
  {
   "cell_type": "markdown",
   "metadata": {
    "slideshow": {
     "slide_type": "slide"
    }
   },
   "source": [
    "# <span style=\"color:purple\">The Tool to Use Depends on Text Format and Your Goals</span>\n",
    "\n",
    "<br>\n",
    "<br>\n",
    "<br>\n",
    "\n",
    "<center><img src=\"../figures/unstrctured-data-types.png\" width=\"70%\" style='border:5px solid #000000'/></center>"
   ]
  },
  {
   "cell_type": "markdown",
   "metadata": {
    "slideshow": {
     "slide_type": "slide"
    }
   },
   "source": [
    "# <span style=\"color:purple\">Unstructured Example: Yahoo Press Releases</span>\n",
    "\n",
    "<br>\n",
    "<br>\n",
    "<br>\n",
    "\n",
    "<center><img src=\"../figures/apple-press-release.png\" width=\"70%\" style='border:5px solid #000000'/></center>"
   ]
  },
  {
   "cell_type": "markdown",
   "metadata": {
    "slideshow": {
     "slide_type": "slide"
    }
   },
   "source": [
    "# <span style=\"color:purple\">NLP Applications</span>"
   ]
  },
  {
   "cell_type": "markdown",
   "metadata": {
    "slideshow": {
     "slide_type": "fragment"
    }
   },
   "source": [
    "* Information Extraction (convert unstructured information to structured data)"
   ]
  },
  {
   "cell_type": "markdown",
   "metadata": {
    "slideshow": {
     "slide_type": "fragment"
    }
   },
   "source": [
    "* Text Categorization (including Sentiment Analysis)"
   ]
  },
  {
   "cell_type": "markdown",
   "metadata": {
    "slideshow": {
     "slide_type": "fragment"
    }
   },
   "source": [
    "* Topic Modeling (uncovering topical structure of a large collection of documents)"
   ]
  },
  {
   "cell_type": "markdown",
   "metadata": {
    "slideshow": {
     "slide_type": "fragment"
    }
   },
   "source": [
    "Also:\n",
    "\n",
    "* Spell and grammar checking\n",
    "* Information Retrieval (search)\n",
    "* Question Answering\n",
    "* Machine Translation\n",
    "* Dialogue systems (Alexa, Siri, Google Assistant)"
   ]
  },
  {
   "cell_type": "markdown",
   "metadata": {
    "slideshow": {
     "slide_type": "slide"
    }
   },
   "source": [
    "# <span style=\"color:purple\">NLP Task Difficulty</span>\n",
    "<br>\n",
    "<br>\n",
    "<center><img src=\"../figures/task-difficulty.png\" width=\"50%\" style='border:5px solid #000000'/></center>\n",
    "<center>https://learning.oreilly.com/library/view/practical-natural-language/9781492054047/</center>\n",
    "\n",
    "\n",
    "* https://nlpprogress.com/"
   ]
  },
  {
   "cell_type": "markdown",
   "metadata": {
    "slideshow": {
     "slide_type": "skip"
    }
   },
   "source": [
    "# <span style=\"color:purple\">NLP Component Tasks</span>\n",
    "\n",
    "<br>\n",
    "<br>\n",
    "<br>\n",
    "\n",
    "<center><img src=\"../figures/blocks-of-language.png\" width=\"50%\" style='border:5px solid #000000'/></center>\n",
    "<center>https://learning.oreilly.com/library/view/practical-natural-language/9781492054047/</center>"
   ]
  },
  {
   "cell_type": "markdown",
   "metadata": {},
   "source": [
    "# <span style=\"color:purple\">NLP Algorithm Methods</span>\n",
    "\n",
    "* Rule-based (including regular expressions)\n",
    "* Machine Learning methods\n",
    "    - Supervised\n",
    "    - Unsupervised"
   ]
  },
  {
   "cell_type": "markdown",
   "metadata": {
    "slideshow": {
     "slide_type": "slide"
    }
   },
   "source": [
    "# <span style=\"color:purple\">Text Classification</span>\n",
    "\n",
    "<br>\n",
    "<br>\n",
    "<br>\n",
    "\n",
    "<center><img src=\"../figures/text-classification.png\" width=\"70%\" style='border:5px solid #000000'/></center>"
   ]
  },
  {
   "cell_type": "markdown",
   "metadata": {
    "slideshow": {
     "slide_type": "slide"
    }
   },
   "source": [
    "# <span style=\"color:purple\">Text Classification Example: Spam Filter</span>\n",
    "\n",
    "<br>\n",
    "<br>\n",
    "<br>\n",
    "\n",
    "<center><img src=\"../figures/spam_ham.png\" width=\"70%\" style='border:5px solid #000000'/></center>"
   ]
  },
  {
   "cell_type": "markdown",
   "metadata": {
    "slideshow": {
     "slide_type": "slide"
    }
   },
   "source": [
    "# <span style=\"color:purple\">Topic Models</span>\n",
    "\n",
    "<br>\n",
    "<br>\n",
    "<br>\n",
    "\n",
    "<center><img src=\"../figures/LDA.png\" width=\"70%\" style='border:5px solid #000000'/></center>"
   ]
  },
  {
   "cell_type": "markdown",
   "metadata": {
    "slideshow": {
     "slide_type": "slide"
    }
   },
   "source": [
    "# <span style=\"color:purple\">Information Extraction</span>\n",
    "\n",
    "<br>\n",
    "<br>\n",
    "<br>\n",
    "\n",
    "<center><img src=\"../figures/information_extraction.png\" width=\"70%\" style='border:5px solid #000000'/></center>\n",
    "\n",
    "<br>\n",
    "<br>\n",
    "\n",
    "* https://explosion.ai/demos/displacy-ent"
   ]
  },
  {
   "cell_type": "markdown",
   "metadata": {
    "slideshow": {
     "slide_type": "slide"
    }
   },
   "source": [
    "# <span style=\"color:purple\">Evaluating Performance</span>\n",
    "\n",
    "<br>\n",
    "<br>\n",
    "<br>\n",
    "\n",
    "<center><img src=\"../figures/PrecisionRecall.png\" width=\"50%\" style='border:5px solid #000000'/></center>"
   ]
  },
  {
   "cell_type": "markdown",
   "metadata": {
    "slideshow": {
     "slide_type": "slide"
    }
   },
   "source": [
    "# <span style=\"color:purple\">Confusion Matrix</span>\n",
    "\n",
    "<br>\n",
    "<br>\n",
    "<br>\n",
    "\n",
    "<center><img src=\"../figures/confusion-matrix.png\" width=\"50%\" style='border:5px solid #000000'/></center>"
   ]
  }
 ],
 "metadata": {
  "celltoolbar": "Slideshow",
  "kernelspec": {
   "display_name": "Python 3",
   "language": "python",
   "name": "python3"
  },
  "language_info": {
   "codemirror_mode": {
    "name": "ipython",
    "version": 3
   },
   "file_extension": ".py",
   "mimetype": "text/x-python",
   "name": "python",
   "nbconvert_exporter": "python",
   "pygments_lexer": "ipython3",
   "version": "3.9.1"
  },
  "nteract": {
   "version": "0.28.0"
  }
 },
 "nbformat": 4,
 "nbformat_minor": 4
}
