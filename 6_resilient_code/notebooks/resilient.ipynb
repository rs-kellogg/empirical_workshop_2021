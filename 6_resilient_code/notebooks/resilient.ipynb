{
 "cells": [
  {
   "cell_type": "markdown",
   "metadata": {
    "slideshow": {
     "slide_type": "slide"
    }
   },
   "source": [
    "# <span style=\"color:purple\">Writing Resilient Code</span>\n",
    "\n",
    "## Data Skills for Empirical Research\n",
    "\n",
    "### Winter, 2021"
   ]
  },
  {
   "cell_type": "markdown",
   "metadata": {
    "slideshow": {
     "slide_type": "slide"
    }
   },
   "source": [
    "## <span style=\"color:purple\">What can go wrong with your code? </span>\n",
    "\n",
    "<br>\n",
    "<br>\n",
    "\n",
    "<center><img src=\"../figures/wrong.png\" width=\"70%\" style='border:5px solid #000000'/></center>\n",
    "<center> https://www.xkcd.com </center>"
   ]
  },
  {
   "cell_type": "markdown",
   "metadata": {
    "slideshow": {
     "slide_type": "slide"
    }
   },
   "source": [
    "## <span style=\"color:purple\">What can go wrong with your code? </span>\n",
    "<br>\n",
    "* Bugs (code crashes, brittle to unexpected inputs)\n",
    "<br>\n",
    "<br>\n",
    "* Code \"works\", but gives incorrect results\n",
    "<br>\n",
    "<br>\n",
    "* Cannot reliably and automatically generate the same results each time\n",
    "<br>\n",
    "<br>\n",
    "* External resources, like code dependencies and data change outside your control\n",
    "<br>\n",
    "<br>\n",
    "* Code is slow and/or uses a lot of memory\n",
    "<br>\n",
    "<br>\n",
    "* Code is hard to understand\n",
    "<br>\n",
    "<br>\n",
    "* Code is hard to change"
   ]
  },
  {
   "cell_type": "markdown",
   "metadata": {
    "slideshow": {
     "slide_type": "slide"
    }
   },
   "source": [
    "## <span style=\"color:purple\">Ways to make your code resilient </span>\n",
    "\n",
    "<center><img src=\"../figures/resilience.jpg\" width=\"25%\"/></center>\n",
    "\n",
    "<br>"
   ]
  },
  {
   "cell_type": "markdown",
   "metadata": {
    "slideshow": {
     "slide_type": "fragment"
    }
   },
   "source": [
    " * Protect Against System Crashes (save intermediate output, elegant restarts)"
   ]
  },
  {
   "cell_type": "markdown",
   "metadata": {
    "slideshow": {
     "slide_type": "fragment"
    }
   },
   "source": [
    "* Creating and Reproducing Environments (conda, docker, singularity)"
   ]
  },
  {
   "cell_type": "markdown",
   "metadata": {
    "slideshow": {
     "slide_type": "fragment"
    }
   },
   "source": [
    "* Error Handling"
   ]
  },
  {
   "cell_type": "markdown",
   "metadata": {
    "slideshow": {
     "slide_type": "fragment"
    }
   },
   "source": [
    "* Unit Testing"
   ]
  },
  {
   "cell_type": "markdown",
   "metadata": {
    "slideshow": {
     "slide_type": "fragment"
    }
   },
   "source": [
    "* Version Control with Github"
   ]
  },
  {
   "cell_type": "markdown",
   "metadata": {
    "slideshow": {
     "slide_type": "slide"
    }
   },
   "source": [
    "## <span style=\"color:purple\">Oh No! A KLC Node Crashed. </span>\n",
    "<br>\n",
    "Any suggestions for how to make your code resilient to a node crash?"
   ]
  },
  {
   "cell_type": "markdown",
   "metadata": {
    "slideshow": {
     "slide_type": "slide"
    }
   },
   "source": [
    "## <span style=\"color:purple\">Save Intermediate Output </span>\n",
    "<br>"
   ]
  },
  {
   "cell_type": "markdown",
   "metadata": {
    "slideshow": {
     "slide_type": "fragment"
    }
   },
   "source": [
    "* Print statements or logs to a file to tell you where you left off."
   ]
  },
  {
   "cell_type": "markdown",
   "metadata": {
    "slideshow": {
     "slide_type": "fragment"
    }
   },
   "source": [
    "* Save html output one at a time."
   ]
  },
  {
   "cell_type": "markdown",
   "metadata": {
    "slideshow": {
     "slide_type": "fragment"
    }
   },
   "source": [
    "* Save output to csv file or database as it is collected."
   ]
  },
  {
   "cell_type": "markdown",
   "metadata": {
    "slideshow": {
     "slide_type": "slide"
    }
   },
   "source": [
    "## <span style=\"color:purple\">Save Intermediate Output </span>\n",
    "sleeper.py (from Week 1)"
   ]
  },
  {
   "cell_type": "code",
   "execution_count": null,
   "metadata": {
    "slideshow": {
     "slide_type": "fragment"
    }
   },
   "outputs": [],
   "source": [
    "#######################################\n",
    "# Download Yahoo Finance Summary Pages\n",
    "#######################################\n",
    "\n",
    "# libraries used\n",
    "import time\n",
    "import requests\n",
    "\n",
    "# Input file\n",
    "tickerList = [\"AMZN\", \"AAPL\", \"FB\"]\n",
    "\n",
    "# Open page and save html\n",
    "for tick in tickerList:\n",
    "    tick = tick.strip()\n",
    "    page = 'https://finance.yahoo.com/quote/' + str(tick)\n",
    "    path = str(tick) + '.html'\n",
    "    time.sleep(3)\n",
    "    page = requests.get(page)\n",
    "    with open(path, \"wb\") as f:\n",
    "        f.write(page.content)\n",
    "    print(\"At \" + time.strftime(\"%X\") + \", we successfully saved \" + str(path) + \".\")            "
   ]
  },
  {
   "cell_type": "markdown",
   "metadata": {
    "slideshow": {
     "slide_type": "slide"
    }
   },
   "source": [
    "## <span style=\"color:purple\">Elegant Restarts to Python Code </span>"
   ]
  },
  {
   "cell_type": "code",
   "execution_count": null,
   "metadata": {
    "slideshow": {
     "slide_type": "fragment"
    }
   },
   "outputs": [],
   "source": [
    "# forever shell script\n",
    "#!/usr/bin/python\n",
    "from subprocess import Popen\n",
    "import sys\n",
    "\n",
    "filename = sys.argv[1]\n",
    "while True:\n",
    "    print(\"\\nStarting \" + filename)\n",
    "    p = Popen(\"python \" + filename, shell=True)\n",
    "    p.wait()"
   ]
  },
  {
   "cell_type": "markdown",
   "metadata": {
    "slideshow": {
     "slide_type": "slide"
    }
   },
   "source": [
    "## <span style=\"color:purple\">Create and Launch Shell Script</span>"
   ]
  },
  {
   "cell_type": "markdown",
   "metadata": {
    "slideshow": {
     "slide_type": "fragment"
    }
   },
   "source": [
    "```bash\n",
    "$ nano forever\n",
    "\n",
    "< Enter file contents >\n",
    "< Control+x to save file >\n",
    "\n",
    "$ chmod +x forever\n",
    "\n",
    "$ ./forever <example_file>.py\n",
    "```"
   ]
  },
  {
   "cell_type": "markdown",
   "metadata": {
    "slideshow": {
     "slide_type": "slide"
    }
   },
   "source": [
    "## <span style=\"color:purple\">Creating and Reproducing Environments</span>\n",
    "\n",
    "<br>\n",
    "Conda environments are easy and cheap to create and delete."
   ]
  },
  {
   "cell_type": "code",
   "execution_count": null,
   "metadata": {
    "slideshow": {
     "slide_type": "fragment"
    }
   },
   "outputs": [],
   "source": [
    "! conda env list"
   ]
  },
  {
   "cell_type": "markdown",
   "metadata": {
    "slideshow": {
     "slide_type": "slide"
    }
   },
   "source": [
    "Notice how many packages there are, so many opportunities for something to change and potentially break your code! If you're using a package, try to find ones with a sizable support community, not one-offs from an undergraduate class project."
   ]
  },
  {
   "cell_type": "code",
   "execution_count": null,
   "metadata": {
    "slideshow": {
     "slide_type": "fragment"
    }
   },
   "outputs": [],
   "source": [
    "! conda list"
   ]
  },
  {
   "cell_type": "markdown",
   "metadata": {
    "slideshow": {
     "slide_type": "fragment"
    }
   },
   "source": [
    "Tip: export your (pinned) dependencies to a file. You can use this to re-create your environment reproducibly, anwhere, and any number of times."
   ]
  },
  {
   "cell_type": "code",
   "execution_count": null,
   "metadata": {
    "slideshow": {
     "slide_type": "slide"
    }
   },
   "outputs": [],
   "source": [
    "! conda env export --from-history"
   ]
  },
  {
   "cell_type": "code",
   "execution_count": null,
   "metadata": {
    "slideshow": {
     "slide_type": "fragment"
    }
   },
   "outputs": [],
   "source": [
    "! conda env export --from-history | grep -v \"^prefix: \" > environment.yml\n",
    "! sed -i '' 's/workshop-env/test-env/g' environment.yml\n",
    "! cat environment.yml"
   ]
  },
  {
   "cell_type": "code",
   "execution_count": null,
   "metadata": {
    "slideshow": {
     "slide_type": "fragment"
    }
   },
   "outputs": [],
   "source": [
    "! conda env create -f environment.yml"
   ]
  },
  {
   "cell_type": "code",
   "execution_count": null,
   "metadata": {
    "slideshow": {
     "slide_type": "fragment"
    }
   },
   "outputs": [],
   "source": [
    "! conda env list"
   ]
  },
  {
   "cell_type": "code",
   "execution_count": null,
   "metadata": {
    "slideshow": {
     "slide_type": "fragment"
    }
   },
   "outputs": [],
   "source": [
    "! conda env remove -n test-env"
   ]
  },
  {
   "cell_type": "markdown",
   "metadata": {
    "slideshow": {
     "slide_type": "slide"
    }
   },
   "source": [
    "## <span style=\"color:purple\">Configuring with Containers</span>\n",
    "\n",
    "<br>\n",
    "<center><img src=\"../figures/reproducibility.png\" width=\"100%\"/></center>"
   ]
  },
  {
   "cell_type": "markdown",
   "metadata": {
    "slideshow": {
     "slide_type": "subslide"
    }
   },
   "source": [
    "<center><a href=\"https:docker.com\">Docker</a></center>\n",
    "<center><img src=\"../figures/docker.png\" width=\"100%\"/></center>"
   ]
  },
  {
   "cell_type": "markdown",
   "metadata": {
    "slideshow": {
     "slide_type": "slide"
    }
   },
   "source": [
    "## <span style=\"color:purple\">Error/Exception Handling</span>\n",
    "Error handling increases the robustness of your code guarding against uncontrolled exits\n",
    "<br>\n",
    "<br>\n",
    "How do you implement error handling in your code? Any examples? \n"
   ]
  },
  {
   "cell_type": "markdown",
   "metadata": {
    "slideshow": {
     "slide_type": "slide"
    }
   },
   "source": [
    "## <span style=\"color:purple\">Error Handling in Python </span>\n",
    "\n",
    "<center><img src=\"../figures/py_error.png\" width=\"85%\"/></center>\n",
    "\n",
    "<br>"
   ]
  },
  {
   "cell_type": "markdown",
   "metadata": {
    "slideshow": {
     "slide_type": "slide"
    }
   },
   "source": [
    "## <span style=\"color:purple\">Python Error Handling Example 1</span>"
   ]
  },
  {
   "cell_type": "code",
   "execution_count": null,
   "metadata": {
    "slideshow": {
     "slide_type": "fragment"
    }
   },
   "outputs": [],
   "source": [
    "def python_fun(num):\n",
    "    try:\n",
    "        print(\"trying to divide by 0\")\n",
    "        num/0\n",
    "        print(\"Infinity and beyond!\")\n",
    "    except ZeroDivisionError:\n",
    "        print(\"Can't do that.\")\n",
    "    finally:\n",
    "        print(\"Time to clean up this mess\")\n",
    "        \n",
    "# python_fun(0)"
   ]
  },
  {
   "cell_type": "markdown",
   "metadata": {
    "slideshow": {
     "slide_type": "slide"
    }
   },
   "source": [
    "## <span style=\"color:purple\">Python Error Handling Example 2</span>"
   ]
  },
  {
   "cell_type": "code",
   "execution_count": null,
   "metadata": {
    "slideshow": {
     "slide_type": "fragment"
    }
   },
   "outputs": [],
   "source": [
    "# from yahoo_main.py file\n",
    "import os\n",
    "\n",
    "coList = [\"AAPL\", \"AMZN\",\"MSFT\"]\n",
    "for co in coList:\n",
    "\n",
    "    # create directories for each ticker\n",
    "    #dir_path = os.path.dirname(os.path.realpath(__file__))\n",
    "    #dir_path = str(dir_path) + \"/\" + str(co)\n",
    "    dir_path = \"company/\" + str(co)\n",
    "    print(dir_path)\n",
    "\n",
    "    try:\n",
    "        os.mkdir(dir_path)\n",
    "    except OSError:\n",
    "        print (\"Creation of the directory failed. %s already exists\" % dir_path)\n",
    "    else:\n",
    "        print (\"Successfully created the directory %s \" % dir_path)"
   ]
  },
  {
   "cell_type": "markdown",
   "metadata": {
    "slideshow": {
     "slide_type": "slide"
    }
   },
   "source": [
    "## <span style=\"color:purple\">Error Handling in R </span>\n",
    "\n",
    "<center><img src=\"../figures/r_error.png\" width=\"85%\"/></center>\n",
    "\n",
    "<br>"
   ]
  },
  {
   "cell_type": "markdown",
   "metadata": {
    "slideshow": {
     "slide_type": "slide"
    }
   },
   "source": [
    "## <span style=\"color:purple\">Error Handling in R</span>\n",
    "\n"
   ]
  },
  {
   "cell_type": "code",
   "execution_count": null,
   "metadata": {
    "slideshow": {
     "slide_type": "fragment"
    }
   },
   "outputs": [],
   "source": [
    "import rpy2"
   ]
  },
  {
   "cell_type": "code",
   "execution_count": null,
   "metadata": {
    "slideshow": {
     "slide_type": "fragment"
    }
   },
   "outputs": [],
   "source": [
    "%load_ext rpy2.ipython"
   ]
  },
  {
   "cell_type": "code",
   "execution_count": null,
   "metadata": {
    "slideshow": {
     "slide_type": "fragment"
    }
   },
   "outputs": [],
   "source": [
    "%%R\n",
    "inputs <- list(1, 2, -5, \"oops\", 10, 0)\n",
    "for(input in inputs) {\n",
    "  print(paste(\"log of\", input, \"=\", log(input)))\n",
    "  }"
   ]
  },
  {
   "cell_type": "markdown",
   "metadata": {
    "slideshow": {
     "slide_type": "slide"
    }
   },
   "source": [
    "## <span style=\"color:purple\">Error Handling in R - Try</span>\n",
    "\n"
   ]
  },
  {
   "cell_type": "code",
   "execution_count": null,
   "metadata": {
    "slideshow": {
     "slide_type": "fragment"
    }
   },
   "outputs": [],
   "source": [
    "%%R\n",
    "for(input in inputs) {\n",
    "  try(print(paste(\"log of\", input, \"=\", log(input))))\n",
    "  }"
   ]
  },
  {
   "cell_type": "markdown",
   "metadata": {
    "slideshow": {
     "slide_type": "slide"
    }
   },
   "source": [
    "## <span style=\"color:purple\">Error Handling in R - Trycatch</span>\n",
    "\n"
   ]
  },
  {
   "cell_type": "code",
   "execution_count": null,
   "metadata": {
    "slideshow": {
     "slide_type": "fragment"
    }
   },
   "outputs": [],
   "source": [
    "%%R\n",
    "log_calculator <- function(x){\n",
    "  tryCatch(\n",
    "    # [Required] R code(s) to be evaluated\n",
    "    expr = {\n",
    "      message(log(x))\n",
    "      message(\"Successfully executed log(x).\")\n",
    "    },\n",
    "    # [Optional] what should run if error occured while evaluating expr\n",
    "    error = function(e){\n",
    "      message('Caught an error!')\n",
    "      print(e)\n",
    "    },\n",
    "    # [Optional] what should run if warning occured while evaluating expr\n",
    "    warning = function(w){\n",
    "      message('Caught a warning!')\n",
    "      print(w)\n",
    "    },\n",
    "    # [Optional] what should run before quitting Trycath call, regardless of what happens\n",
    "    finally = {\n",
    "      message('All done, quitting.')\n",
    "    }\n",
    "  )    \n",
    "}"
   ]
  },
  {
   "cell_type": "code",
   "execution_count": null,
   "metadata": {
    "slideshow": {
     "slide_type": "slide"
    }
   },
   "outputs": [],
   "source": [
    "%%R\n",
    "log_calculator(10)"
   ]
  },
  {
   "cell_type": "code",
   "execution_count": null,
   "metadata": {
    "slideshow": {
     "slide_type": "fragment"
    }
   },
   "outputs": [],
   "source": [
    "%%R\n",
    "log_calculator(-10)"
   ]
  },
  {
   "cell_type": "code",
   "execution_count": null,
   "metadata": {
    "slideshow": {
     "slide_type": "fragment"
    }
   },
   "outputs": [],
   "source": [
    "%%R\n",
    "log_calculator(\"a\")"
   ]
  },
  {
   "cell_type": "markdown",
   "metadata": {
    "slideshow": {
     "slide_type": "slide"
    }
   },
   "source": [
    "## <span style=\"color:purple\">Unit Testing</span>\n",
    "<br>\n",
    "<br>\n",
    "Testing writes code (separate from application code) that invokes the code it tests to determine if there are any errors.  \n",
    "<br>\n",
    "<br>\n",
    "It does not prove code is correct, but rather reports if the conditions provided in the tester are handled correctly\n",
    "<br>\n",
    "<br>\n",
    "Unit tests specifically test a single “unit” of the code in isolation.  For instance, testing a single class, function, module etc. \n",
    "\n"
   ]
  },
  {
   "cell_type": "markdown",
   "metadata": {
    "slideshow": {
     "slide_type": "slide"
    }
   },
   "source": [
    "## <span style=\"color:purple\">Unit Tests in Python</span>"
   ]
  },
  {
   "cell_type": "code",
   "execution_count": null,
   "metadata": {
    "slideshow": {
     "slide_type": "fragment"
    }
   },
   "outputs": [],
   "source": [
    "def test_extract_doclevel_form3_collection(test_form3_collection):\n",
    "    \"\"\"\n",
    "    Validate Form3 extraction code against a random sample of documents\n",
    "    :param test_form3_collection:\n",
    "    :return:\n",
    "    \"\"\"\n",
    "    for file in test_form3_collection.glob(\"*.txt\"):\n",
    "        doc = Form3(file)\n",
    "        assert doc.filename == file.name\n",
    "        fields = doc.doc_info\n",
    "        assert len(fields) == 19\n",
    "        assert fields[\"filename\"] == file.name\n",
    "        assert fields[\"schema_version\"] == \"X0206\"\n",
    "        assert fields[\"document_type\"] == \"3\"\n"
   ]
  },
  {
   "cell_type": "markdown",
   "metadata": {
    "slideshow": {
     "slide_type": "slide"
    }
   },
   "source": [
    "## <span style=\"color:purple\">Unit Tests in R</span>\n",
    "Create a file named increment.R"
   ]
  },
  {
   "cell_type": "code",
   "execution_count": null,
   "metadata": {
    "slideshow": {
     "slide_type": "fragment"
    }
   },
   "outputs": [],
   "source": [
    "%%R\n",
    "increment <- function(value) {\n",
    "  value + 1\n",
    "}"
   ]
  },
  {
   "cell_type": "code",
   "execution_count": null,
   "metadata": {
    "slideshow": {
     "slide_type": "fragment"
    }
   },
   "outputs": [],
   "source": [
    "%%R\n",
    "#install.packages(\"testhat\", repos='http://cran.us.r-project.org', quiet=TRUE)\n",
    "library(testthat)"
   ]
  },
  {
   "cell_type": "code",
   "execution_count": null,
   "metadata": {
    "slideshow": {
     "slide_type": "fragment"
    }
   },
   "outputs": [],
   "source": [
    "%%R\n",
    "source(\"../examples/increment.R\", chdir = TRUE)"
   ]
  },
  {
   "cell_type": "code",
   "execution_count": null,
   "metadata": {
    "slideshow": {
     "slide_type": "slide"
    }
   },
   "outputs": [],
   "source": [
    "%%R\n",
    "test_that(\"single number\", {\n",
    "  expect_equal(increment(-1), 0)\n",
    "  expect_equal(increment(0), 1)\n",
    "})\n",
    "\n",
    "test_that(\"vectors\", {\n",
    "  expect_equal(increment(c(0,1)), c(1,2))\n",
    "})\n",
    "\n",
    "test_that(\"empty vector\", {\n",
    "  expect_equal(increment(c()), c())\n",
    "})\n",
    "\n",
    "test_that(\"test NA\", {\n",
    "  expect_true(is.na(increment(NA)))\n",
    "})\n"
   ]
  },
  {
   "cell_type": "markdown",
   "metadata": {
    "slideshow": {
     "slide_type": "fragment"
    }
   },
   "source": [
    "Inside Rstudio\n",
    "<br>\n",
    "test_file(\"../examples/unit_testing.R\")"
   ]
  },
  {
   "cell_type": "markdown",
   "metadata": {
    "slideshow": {
     "slide_type": "slide"
    }
   },
   "source": [
    "## <span style=\"color:purple\">Version Control using Git and Github</span>\n",
    "\n",
    "<center><a href=\"https://en.wikipedia.org/wiki/Git\">Git</a></center>\n",
    "<center><img src=\"../figures/git-workflow.png\" width=\"70%\"/></center>"
   ]
  },
  {
   "cell_type": "markdown",
   "metadata": {
    "slideshow": {
     "slide_type": "slide"
    }
   },
   "source": [
    "## <span style=\"color:purple\">Version Control using Git and Github</span>\n",
    "\n",
    "<center><img src=\"../figures/git-klc.png\" width=\"70%\"/></center>"
   ]
  }
 ],
 "metadata": {
  "celltoolbar": "Slideshow",
  "kernelspec": {
   "display_name": "Python 3",
   "language": "python",
   "name": "python3"
  },
  "language_info": {
   "codemirror_mode": {
    "name": "ipython",
    "version": 3
   },
   "file_extension": ".py",
   "mimetype": "text/x-python",
   "name": "python",
   "nbconvert_exporter": "python",
   "pygments_lexer": "ipython3",
   "version": "3.9.1"
  },
  "nteract": {
   "version": "0.28.0"
  }
 },
 "nbformat": 4,
 "nbformat_minor": 4
}
